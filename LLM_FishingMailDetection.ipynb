{
 "cells": [
  {
   "cell_type": "markdown",
   "metadata": {},
   "source": [
    "# 釣魚信件辨識\n",
    "利用 LLM 來 辨識釣魚信件，主要會使用到 Langchian 套件與 HuggingFace 模型來實作。 <br>\n",
    "並包含以下技術：\n",
    "1. Prompt Engineering\n",
    "    * Few shot\n",
    "    * Chain Of Thought\n",
    "    * Self-Consistency\n",
    "2. RAG"
   ]
  },
  {
   "cell_type": "markdown",
   "metadata": {},
   "source": [
    "## Data Preprocess"
   ]
  },
  {
   "cell_type": "code",
   "execution_count": 73,
   "metadata": {},
   "outputs": [],
   "source": [
    "# 載入套件\n",
    "import pandas as pd\n",
    "import nltk\n",
    "from nltk.corpus import stopwords\n",
    "from nltk.corpus import wordnet\n",
    "from nltk.stem.porter import PorterStemmer\n",
    "from nltk.stem import WordNetLemmatizer\n",
    "import re\n",
    "\n",
    "from wordcloud import WordCloud # pip install wordcloud\n",
    "import matplotlib.pyplot as plt\n",
    "\n",
    "# 設定圖的字體大小\n",
    "plt.rcParams['font.size'] = 14\n",
    "\n",
    "# 設定中文字體 (無法顯示的話可以試試‘Microsoft JhengHei’字體)\n",
    "# 也可參考：https://pyecontech.com/2020/03/27/python_matplotlib_chinese/\n",
    "plt.rcParams['font.sans-serif'] = ['Arial Unicode Ms']"
   ]
  },
  {
   "cell_type": "code",
   "execution_count": 74,
   "metadata": {},
   "outputs": [],
   "source": [
    "maildata = pd.read_csv(\"dataset/Phishing_Email.csv\")"
   ]
  },
  {
   "cell_type": "code",
   "execution_count": 75,
   "metadata": {},
   "outputs": [],
   "source": [
    "# 刪除標點符號/數字/換行符號\n",
    "maildata[\"Email Text\"] = maildata[\"Email Text\"].apply(lambda x: re.sub(r'[^\\w\\s]','', str(x)))  #只留下英文字母和空格(包含換行符號)\n",
    "maildata[\"Email Text\"] = maildata[\"Email Text\"].apply(lambda x: re.sub(r'[\\n_-]+',' ', x)) #將換行符號替換成空格\n",
    "maildata[\"Email Text\"] = maildata[\"Email Text\"].apply(lambda x: re.sub(r'\\s+', ' ', x)) # 將多個空格替換成一個空格\n",
    "# 新增一個 column，計算 \"Email Text\" 的字數\n",
    "maildata[\"Word Count\"] = maildata[\"Email Text\"].apply(lambda x: len(str(x)))\n",
    "\n",
    "# 字數介於 100 到 600 之間的資料\n",
    "# 避免 token 太多\n",
    "maildata = maildata[maildata[\"Word Count\"] > 100]\n",
    "maildata = maildata[maildata[\"Word Count\"] < 600]"
   ]
  },
  {
   "cell_type": "code",
   "execution_count": 76,
   "metadata": {},
   "outputs": [],
   "source": [
    "nums = 25\n",
    "# 隨機抽取 Phishing Email\n",
    "phishing_emails = maildata[maildata['Email Type'] == 'Phishing Email'].sample(n=nums, random_state=1116)\n",
    "# 隨機抽取 Safe Email\n",
    "safe_emails = maildata[maildata['Email Type'] == 'Safe Email'].sample(n=nums, random_state=1116)"
   ]
  },
  {
   "cell_type": "code",
   "execution_count": 77,
   "metadata": {},
   "outputs": [
    {
     "data": {
      "text/html": [
       "<div>\n",
       "<style scoped>\n",
       "    .dataframe tbody tr th:only-of-type {\n",
       "        vertical-align: middle;\n",
       "    }\n",
       "\n",
       "    .dataframe tbody tr th {\n",
       "        vertical-align: top;\n",
       "    }\n",
       "\n",
       "    .dataframe thead th {\n",
       "        text-align: right;\n",
       "    }\n",
       "</style>\n",
       "<table border=\"1\" class=\"dataframe\">\n",
       "  <thead>\n",
       "    <tr style=\"text-align: right;\">\n",
       "      <th></th>\n",
       "      <th>Unnamed: 0</th>\n",
       "      <th>Email Text</th>\n",
       "      <th>Email Type</th>\n",
       "      <th>Word Count</th>\n",
       "    </tr>\n",
       "  </thead>\n",
       "  <tbody>\n",
       "    <tr>\n",
       "      <th>17721</th>\n",
       "      <td>17722</td>\n",
       "      <td>re 200 000 1st year subscribers company cavalc...</td>\n",
       "      <td>Phishing Email</td>\n",
       "      <td>400</td>\n",
       "    </tr>\n",
       "    <tr>\n",
       "      <th>14303</th>\n",
       "      <td>14304</td>\n",
       "      <td>get your babies diapers bill paid for for a ye...</td>\n",
       "      <td>Phishing Email</td>\n",
       "      <td>102</td>\n",
       "    </tr>\n",
       "    <tr>\n",
       "      <th>18073</th>\n",
       "      <td>18074</td>\n",
       "      <td>please solve your impotence once and for all h...</td>\n",
       "      <td>Phishing Email</td>\n",
       "      <td>362</td>\n",
       "    </tr>\n",
       "    <tr>\n",
       "      <th>3542</th>\n",
       "      <td>3542</td>\n",
       "      <td>mr childers has 716 256 for you and your famil...</td>\n",
       "      <td>Phishing Email</td>\n",
       "      <td>414</td>\n",
       "    </tr>\n",
       "    <tr>\n",
       "      <th>16802</th>\n",
       "      <td>16803</td>\n",
       "      <td>this has worked for me marrow enemy i think th...</td>\n",
       "      <td>Phishing Email</td>\n",
       "      <td>385</td>\n",
       "    </tr>\n",
       "  </tbody>\n",
       "</table>\n",
       "</div>"
      ],
      "text/plain": [
       "       Unnamed: 0                                         Email Text  \\\n",
       "17721       17722  re 200 000 1st year subscribers company cavalc...   \n",
       "14303       14304  get your babies diapers bill paid for for a ye...   \n",
       "18073       18074  please solve your impotence once and for all h...   \n",
       "3542         3542  mr childers has 716 256 for you and your famil...   \n",
       "16802       16803  this has worked for me marrow enemy i think th...   \n",
       "\n",
       "           Email Type  Word Count  \n",
       "17721  Phishing Email         400  \n",
       "14303  Phishing Email         102  \n",
       "18073  Phishing Email         362  \n",
       "3542   Phishing Email         414  \n",
       "16802  Phishing Email         385  "
      ]
     },
     "execution_count": 77,
     "metadata": {},
     "output_type": "execute_result"
    }
   ],
   "source": [
    "phishing_emails.head()"
   ]
  },
  {
   "cell_type": "code",
   "execution_count": 78,
   "metadata": {},
   "outputs": [
    {
     "data": {
      "text/html": [
       "<div>\n",
       "<style scoped>\n",
       "    .dataframe tbody tr th:only-of-type {\n",
       "        vertical-align: middle;\n",
       "    }\n",
       "\n",
       "    .dataframe tbody tr th {\n",
       "        vertical-align: top;\n",
       "    }\n",
       "\n",
       "    .dataframe thead th {\n",
       "        text-align: right;\n",
       "    }\n",
       "</style>\n",
       "<table border=\"1\" class=\"dataframe\">\n",
       "  <thead>\n",
       "    <tr style=\"text-align: right;\">\n",
       "      <th></th>\n",
       "      <th>Unnamed: 0</th>\n",
       "      <th>Email Text</th>\n",
       "      <th>Email Type</th>\n",
       "      <th>Word Count</th>\n",
       "    </tr>\n",
       "  </thead>\n",
       "  <tbody>\n",
       "    <tr>\n",
       "      <th>1046</th>\n",
       "      <td>1046</td>\n",
       "      <td>any sumerologists out there are there any sume...</td>\n",
       "      <td>Safe Email</td>\n",
       "      <td>145</td>\n",
       "    </tr>\n",
       "    <tr>\n",
       "      <th>17955</th>\n",
       "      <td>17956</td>\n",
       "      <td>jmjmasonorg Justin Mason writes BTW I tried tw...</td>\n",
       "      <td>Safe Email</td>\n",
       "      <td>417</td>\n",
       "    </tr>\n",
       "    <tr>\n",
       "      <th>2740</th>\n",
       "      <td>2740</td>\n",
       "      <td>start date 12 21 01 hourahead hour 10 start da...</td>\n",
       "      <td>Safe Email</td>\n",
       "      <td>231</td>\n",
       "    </tr>\n",
       "    <tr>\n",
       "      <th>6673</th>\n",
       "      <td>6674</td>\n",
       "      <td>book administrators gas the highlighted names ...</td>\n",
       "      <td>Safe Email</td>\n",
       "      <td>103</td>\n",
       "    </tr>\n",
       "    <tr>\n",
       "      <th>7939</th>\n",
       "      <td>7940</td>\n",
       "      <td>URL httpjeremyzawodnycomblogarchives000206html...</td>\n",
       "      <td>Safe Email</td>\n",
       "      <td>302</td>\n",
       "    </tr>\n",
       "  </tbody>\n",
       "</table>\n",
       "</div>"
      ],
      "text/plain": [
       "       Unnamed: 0                                         Email Text  \\\n",
       "1046         1046  any sumerologists out there are there any sume...   \n",
       "17955       17956  jmjmasonorg Justin Mason writes BTW I tried tw...   \n",
       "2740         2740  start date 12 21 01 hourahead hour 10 start da...   \n",
       "6673         6674  book administrators gas the highlighted names ...   \n",
       "7939         7940  URL httpjeremyzawodnycomblogarchives000206html...   \n",
       "\n",
       "       Email Type  Word Count  \n",
       "1046   Safe Email         145  \n",
       "17955  Safe Email         417  \n",
       "2740   Safe Email         231  \n",
       "6673   Safe Email         103  \n",
       "7939   Safe Email         302  "
      ]
     },
     "execution_count": 78,
     "metadata": {},
     "output_type": "execute_result"
    }
   ],
   "source": [
    "safe_emails.head()"
   ]
  },
  {
   "cell_type": "markdown",
   "metadata": {},
   "source": [
    "## 利用 huggingFace + LangChain 使用 LLM"
   ]
  },
  {
   "cell_type": "code",
   "execution_count": 79,
   "metadata": {},
   "outputs": [],
   "source": [
    "import os\n",
    "from getpass import getpass\n",
    "\n",
    "import pandas as pd\n",
    "import ast\n",
    "import json\n",
    "import re\n",
    "import jieba\n",
    "\n",
    "from transformers import AutoModelForCausalLM, AutoTokenizer, pipeline\n",
    "from langchain_community.llms.huggingface_pipeline import HuggingFacePipeline\n",
    "from transformers import BitsAndBytesConfig # huggingface 量化\n",
    "\n",
    "from langchain_community.llms import HuggingFaceEndpoint\n",
    "\n",
    "from langchain_core.prompts import PromptTemplate\n",
    "from langchain_core.prompts import ChatPromptTemplate\n",
    "\n",
    "from langchain_core.runnables import RunnablePassthrough\n",
    "from langchain_core.runnables import RunnableParallel\n",
    "from langchain_core.runnables import RunnableLambda\n",
    "\n",
    "from langchain_core.output_parsers import JsonOutputParser\n",
    "from langchain_core.pydantic_v1 import BaseModel, Field\n",
    "\n",
    "from langchain_community.document_loaders import PyPDFLoader\n",
    "from langchain_text_splitters import RecursiveCharacterTextSplitter\n",
    "from langchain_chroma import Chroma\n",
    "from langchain_community.embeddings.sentence_transformer import (\n",
    "    SentenceTransformerEmbeddings,\n",
    ")"
   ]
  },
  {
   "cell_type": "markdown",
   "metadata": {},
   "source": [
    "### huggingFace Token"
   ]
  },
  {
   "cell_type": "code",
   "execution_count": 80,
   "metadata": {},
   "outputs": [],
   "source": [
    "# 輸入 huggingface 的 token\n",
    "HUGGINGFACEHUB_API_TOKEN = getpass()\n",
    "os.environ[\"HUGGINGFACEHUB_API_TOKEN\"] = HUGGINGFACEHUB_API_TOKEN"
   ]
  },
  {
   "cell_type": "markdown",
   "metadata": {},
   "source": [
    "### import LLM"
   ]
  },
  {
   "cell_type": "markdown",
   "metadata": {},
   "source": [
    "### HuggingFacePipeline\n",
    "將 Model 從 HuggungFace 載入到本地"
   ]
  },
  {
   "cell_type": "code",
   "execution_count": null,
   "metadata": {},
   "outputs": [],
   "source": [
    "# Load Model\n",
    "\n",
    "# 設定量化配置，可以用來減少模型記憶體占用\n",
    "quant_config = BitsAndBytesConfig(load_in_4bit=True, load_in_8bit_fp32_cpu_offload=True)\n",
    "# 選擇要使用的模型\n",
    "model_id = \"google/gemma-2b-it\"\n",
    "# model_id = \"google/gemma-7b-it\"\n",
    "# 載入 tokenizer\n",
    "tokenizer = AutoTokenizer.from_pretrained(model_id, token=HUGGINGFACEHUB_API_TOKEN)\n",
    "\n",
    "# 載入語言模型\n",
    "model = AutoModelForCausalLM.from_pretrained(model_id, quantization_config=quant_config, token=HUGGINGFACEHUB_API_TOKEN, device_map=\"auto\")"
   ]
  },
  {
   "cell_type": "code",
   "execution_count": 83,
   "metadata": {},
   "outputs": [],
   "source": [
    "# 建立 text-generation pipeline，讓模型可以直接產生文本\n",
    "# max_new_tokens 生成文本的最大長度\n",
    "# temperature: 模型回答的創意程度，0~1 越大每次回答的多樣性越高\n",
    "pipe = pipeline(\n",
    "    \"text-generation\", \n",
    "    model=model, \n",
    "    tokenizer=tokenizer, \n",
    "    max_new_tokens=3,\n",
    "    temperature=1.0, \n",
    "    repetition_penalty=1.2,\n",
    "    return_full_text=False)\n",
    "# 使用 HuggingFacePipeline 封裝 pipeline 物件，讓它符合 langchain 的接口\n",
    "llm = HuggingFacePipeline(pipeline=pipe)"
   ]
  },
  {
   "cell_type": "markdown",
   "metadata": {},
   "source": [
    "### HuggingFaceEndpoint\n",
    "讓 langchain 調動 huggingface model"
   ]
  },
  {
   "cell_type": "code",
   "execution_count": 10,
   "metadata": {},
   "outputs": [
    {
     "name": "stderr",
     "output_type": "stream",
     "text": [
      "c:\\Users\\win90\\AppData\\Local\\Programs\\Python\\Python310\\lib\\site-packages\\langchain_core\\_api\\deprecation.py:119: LangChainDeprecationWarning: The class `HuggingFaceEndpoint` was deprecated in LangChain 0.0.37 and will be removed in 0.3. An updated version of the class exists in the from langchain-huggingface package and should be used instead. To use it run `pip install -U from langchain-huggingface` and import as `from from langchain_huggingface import llms import HuggingFaceEndpoint`.\n",
      "  warn_deprecated(\n"
     ]
    },
    {
     "name": "stdout",
     "output_type": "stream",
     "text": [
      "The token has not been saved to the git credentials helper. Pass `add_to_git_credential=True` in this function directly or `--add-to-git-credential` if using via `huggingface-cli` if you want to set the git credential as well.\n",
      "Token is valid (permission: read).\n",
      "Your token has been saved to C:\\Users\\win90\\.cache\\huggingface\\token\n",
      "Login successful\n"
     ]
    }
   ],
   "source": [
    "# 透過 Hugging Face API 部署的 Endpoint 來呼叫模型\n",
    "# temperature: 模型回答的創意程度，0~1 越大每次回答的多樣性越高\n",
    "llm = HuggingFaceEndpoint(\n",
    "    repo_id=model_id, temperature=1.0, model_kwargs={'use_cache':False}, huggingfacehub_api_token=HUGGINGFACEHUB_API_TOKEN\n",
    ")"
   ]
  },
  {
   "cell_type": "markdown",
   "metadata": {},
   "source": [
    "## 創建 LLM Prompt Template"
   ]
  },
  {
   "cell_type": "markdown",
   "metadata": {},
   "source": [
    "### Normal"
   ]
  },
  {
   "cell_type": "code",
   "execution_count": 86,
   "metadata": {},
   "outputs": [],
   "source": [
    "# 計算 accuracy\n",
    "def calcu_result(result_list):\n",
    "    true_count = result_list.count(\"True\")\n",
    "    false_count = result_list.count(\"False\")\n",
    "    return true_count / (true_count + false_count)"
   ]
  },
  {
   "cell_type": "code",
   "execution_count": 84,
   "metadata": {},
   "outputs": [],
   "source": [
    "normal_template = \"\"\"<start_of_turn>user\n",
    "你是一位資安專家，將會幫助判斷以下郵件是否為釣魚信件。\n",
    "如果是釣魚信件，請回答「True」，如果不是釣魚信件，請回答「False」。\n",
    "\n",
    "問題：{question}<end_of_turn>\n",
    "<start_of_turn>model\n",
    "答案：\"\"\"\n",
    "\n",
    "normal_prompt = PromptTemplate.from_template(normal_template)\n",
    "\n",
    "normal_chain = (\n",
    "    {\"question\": RunnablePassthrough()}\n",
    "    | normal_prompt\n",
    "    | llm\n",
    ")"
   ]
  },
  {
   "cell_type": "code",
   "execution_count": 85,
   "metadata": {},
   "outputs": [],
   "source": [
    "# 將結果存入 list\n",
    "normal_result = []\n",
    "\n",
    "# 使用for迴圈遍歷phishing_emails的\"Email Text\"欄位\n",
    "# 將是否答對存進 list 中，而非回答的答案\n",
    "for email_text in phishing_emails[\"Email Text\"]:\n",
    "    result = normal_chain.invoke(email_text)\n",
    "    if \"True\" in result or \"true\" in result:\n",
    "        normal_result.append(\"True\")\n",
    "    else:\n",
    "        normal_result.append(\"False\")\n",
    "\n",
    "for email_text in safe_emails[\"Email Text\"]:\n",
    "    result = normal_chain.invoke(email_text)\n",
    "    if \"False\" in result or \"false\" in result:\n",
    "        normal_result.append(\"True\")\n",
    "    else:\n",
    "        normal_result.append(\"False\")"
   ]
  },
  {
   "cell_type": "code",
   "execution_count": null,
   "metadata": {},
   "outputs": [],
   "source": [
    "normal_acc = calcu_result(normal_result)\n",
    "normal_acc\n",
    "# 0.58"
   ]
  },
  {
   "cell_type": "code",
   "execution_count": 23,
   "metadata": {},
   "outputs": [],
   "source": [
    "normal_acc = 0.58"
   ]
  },
  {
   "cell_type": "markdown",
   "metadata": {},
   "source": [
    "### Few shot"
   ]
  },
  {
   "cell_type": "code",
   "execution_count": 13,
   "metadata": {},
   "outputs": [],
   "source": [
    "fewshot_template = \"\"\"<start_of_turn>user\n",
    "你是一位資安專家，將會幫助判斷以下郵件是否為釣魚信件。\n",
    "如果是釣魚信件，請回答「True」，如果不是釣魚信件，請回答「False」。\n",
    "\n",
    "以下為一些例子：\n",
    "```\n",
    "郵件：hot teen flasher sex spy over 100  000 voyeur images tons live hidden cams 50  000  extreme movies total invasion of privacy click here for more  sex spy is the number one site for complete invasion of privacy photos  videos and more  these extreme voyeur photos have the hottest women caught on tape doing unthinkable acts  these sluts have no clue we are watching  click here for a free preview of the dumbest whores getting caught on camera  remove me ashtray bertrand ductwork witt secretion lucre lundberg incurring nostalgic papua yakima\n",
    "答案：True\n",
    "\n",
    "郵件：2002 it systems development allocations kevin  tim  please review the attached listing and advise if you agree to the projects and amounts listed as billings that enron north america will receive in 2002 for support of these efforts  i  m at x 30352 if you have any questions  thanks \n",
    "答案：False\n",
    "\n",
    "郵件：enrononline executive summary for november 08  2001 following please find the daily enrononline executive summary  note  the executive summary transaction counts have been reduced to reflect the removal of sleeve trade activity \n",
    "答案：False\n",
    "```\n",
    "\n",
    "問題：{question}<end_of_turn>\n",
    "<start_of_turn>model\n",
    "答案：\"\"\"\n",
    "\n",
    "fewshot_template = PromptTemplate.from_template(fewshot_template)\n",
    "\n",
    "fewshot_chain = (\n",
    "    {\"question\": RunnablePassthrough()}\n",
    "    | fewshot_template\n",
    "    | llm\n",
    ")"
   ]
  },
  {
   "cell_type": "code",
   "execution_count": 16,
   "metadata": {},
   "outputs": [],
   "source": [
    "# 將結果存入 list\n",
    "fewshot_result = []\n",
    "\n",
    "# 使用for迴圈遍歷phishing_emails的\"Email Text\"欄位\n",
    "# 將是否答對存進 list 中，而非回答的答案\n",
    "for email_text in phishing_emails[\"Email Text\"]:\n",
    "    result = fewshot_chain.invoke(email_text)\n",
    "    if \"True\" in result or \"true\" in result:\n",
    "        fewshot_result.append(\"True\")\n",
    "    else:\n",
    "        fewshot_result.append(\"False\")\n",
    "\n",
    "for email_text in safe_emails[\"Email Text\"]:\n",
    "    result = fewshot_chain.invoke(email_text)\n",
    "    if \"False\" in result or \"false\" in result:\n",
    "        fewshot_result.append(\"True\")\n",
    "    else:\n",
    "        fewshot_result.append(\"False\")"
   ]
  },
  {
   "cell_type": "code",
   "execution_count": null,
   "metadata": {},
   "outputs": [
    {
     "data": {
      "text/plain": [
       "0.68"
      ]
     },
     "execution_count": 17,
     "metadata": {},
     "output_type": "execute_result"
    }
   ],
   "source": [
    "fewshot_acc = calcu_result(fewshot_result)\n",
    "fewshot_acc\n",
    "# 0.68"
   ]
  },
  {
   "cell_type": "code",
   "execution_count": 24,
   "metadata": {},
   "outputs": [],
   "source": [
    "fewshot_acc = 0.68"
   ]
  },
  {
   "cell_type": "markdown",
   "metadata": {},
   "source": [
    "### Chain of Thought"
   ]
  },
  {
   "cell_type": "code",
   "execution_count": 13,
   "metadata": {},
   "outputs": [],
   "source": [
    "CoT_template = \"\"\"<start_of_turn>user\n",
    "你是一位資安專家，將會幫助判斷以下郵件是否為釣魚信件。\n",
    "請逐步分析郵件的內容，並按照以下流程進行：\n",
    "1. 提取郵件的主旨與目的。\n",
    "2. 分析郵件的語言特徵（例如是否使用過於吸引人的措辭、過多的呼籲性語句）。\n",
    "3. 判斷是否包含潛在的釣魚信件特徵（例如要求用戶提供敏感信息、提供不可信的 URL 或強調緊急性）。\n",
    "4. 根據分析給出結論，如果是釣魚信件，請回答「True」，如果不是釣魚信件，請回答「False」。\n",
    "\n",
    "以下為一些例子：\n",
    "```\n",
    "郵件：HI As a professional bulk mailer for 5 years I made over 200000 last 12 months selling only one product The Banned CDLuckily for you the Bulker CD 2003 is now for sale I decide to sell all secrets how I made over 20000 per month at home only few hours workWhy dont more people use Bulk Email Marketing1 Lack of knowledge Most people do not know how to set up a marketing campaign let alone set up an effective email marketing campaign Through hard work and trial and error we have developed simple yet successful strategies to send your emails We can show you how to do it properly 2 Fear of getting into trouble Most people do not send email because they have heard negative things about SPAM and that your isp will shut you down This is true if you dont know what you are doing and bulk email to the masses If you dont believe in SPAM we have developed alternative ways to bulk email so that you are sending your emails responsibly without getting into any trouble at all 3 Dont have the necessary equipmentsoftwares To send your emails out you need a computer with specialized email software installed that will send or harvest your emails We are the email marketing software experts The softwares ranging will up to thousands of dollars Buying the correct software for your needs can be confusing Depending on your budget requirements and goals we can help recommend the best software for youBULKER CDROM has everything you need to start bulk Emailing immediately all on this one CD BULKER CDROM is excellent for the beginner as well as the professional Advertising my products have never been easier Please Click the URL for the Detail http7777772E62a6E6E6564c642E6E6574bulkhtmYou are receiving this special offer because you have provided permission to receive third party email communications regarding special online promotions or offers We strongly oppose the use of SPAM email and do not want to send our mailings to anyone who does not wish to receive them If you do not wish to receive any further messages from netcommission To Be Removed From Our List http7777772E62a6E6E6564c642E6E6574removehtml\n",
    "分析：\n",
    "1. 主旨與目的：該郵件的主要目的是推銷一款名為 \"Bulker CDROM\" 的軟件，並強調其能幫助用戶實現有效的電子郵件營銷。\n",
    "2. 語言特徵：郵件使用了吸引人的措辭（例如「我一年內賺了200000美元」、「僅需幾個小時的工作」），並帶有誘惑性言語來吸引目標群體。它還通過羅列「為什麼人們不用批量電子郵件行銷」的原因，試圖建立信任。\n",
    "3. 潛在釣魚信特徵：\n",
    "- 提供了 URL：http7777772E62a6E6E6564c642E6E6574bulkhtm，這看起來並非可信且可能存在安全風險。\n",
    "- 試圖說服用戶購買產品以獲得「快速致富」的方案。\n",
    "- 提到如果不希望收到郵件，可點擊移除鏈接，但鏈接的真實性無法確認，可能會收集用戶敏感信息。\n",
    "4. 結論：\n",
    "該郵件包含了典型的釣魚信件特徵，包括不可信的 URL 和過於誘惑的語言，因此判斷為釣魚信件（True）。\n",
    "答案：True\n",
    "\n",
    "\n",
    "郵件：2002 it systems development allocations kevin  tim  please review the attached listing and advise if you agree to the projects and amounts listed as billings that enron north america will receive in 2002 for support of these efforts  i  m at x 30352 if you have any questions  thanks \n",
    "分析：\n",
    "1. 主旨與目的：該郵件的主旨是請求 Kevin 和 Tim 檢視附上的專案清單，並確認其是否同意所列出的項目與金額。\n",
    "2. 語言特徵：郵件語言直接且清晰，使用了正式且專業的語氣，未包含過於吸引人的措辭或過多的呼籲性語句。\n",
    "3. 潛在釣魚信特徵：\n",
    "- 未包含任何不可信的 URL。\n",
    "- 未要求接收者提供敏感信息（例如賬戶密碼或個人身份資料）。\n",
    "- 未強調任何緊急性或試圖操控情緒。\n",
    "4. 結論：\n",
    "此郵件是安全郵件，未包含任何釣魚信件特徵（False）。\n",
    "答案：False\n",
    "```\n",
    "\n",
    "問題：{question}<end_of_turn>\n",
    "<start_of_turn>model\n",
    "答案：\"\"\"\n",
    "\n",
    "CoT_prompt = PromptTemplate.from_template(CoT_template)\n",
    "\n",
    "CoT_chain = (\n",
    "    {\"question\": RunnablePassthrough()}\n",
    "    | CoT_prompt\n",
    "    | llm\n",
    ")"
   ]
  },
  {
   "cell_type": "code",
   "execution_count": null,
   "metadata": {},
   "outputs": [],
   "source": [
    "# 將結果存入 list\n",
    "CoT_result = []\n",
    "\n",
    "# 使用for迴圈遍歷phishing_emails的\"Email Text\"欄位\n",
    "# 將是否答對存進 list 中，而非回答的答案\n",
    "for email_text in phishing_emails[\"Email Text\"]:\n",
    "    result = CoT_chain.invoke(email_text)\n",
    "    if \"True\" in result or \"true\" in result:\n",
    "        CoT_result.append(\"True\")\n",
    "    else:\n",
    "        CoT_result.append(\"False\")\n",
    "\n",
    "for email_text in safe_emails[\"Email Text\"]:\n",
    "    result = CoT_chain.invoke(email_text)\n",
    "    if \"False\" in result or \"false\" in result:\n",
    "        CoT_result.append(\"True\")\n",
    "    else:\n",
    "        CoT_result.append(\"False\")"
   ]
  },
  {
   "cell_type": "markdown",
   "metadata": {},
   "source": [
    "CoT_result = ['True',\n",
    " 'True',\n",
    " 'False',\n",
    " 'True',\n",
    " 'True',\n",
    " 'True',\n",
    " 'True',\n",
    " 'True',\n",
    " 'True',\n",
    " 'True',\n",
    " 'True',\n",
    " 'True',\n",
    " 'True',\n",
    " 'True',\n",
    " 'False',\n",
    " 'True',\n",
    " 'True',\n",
    " 'True',\n",
    " 'True',\n",
    " 'True',\n",
    " 'True',\n",
    " 'True',\n",
    " 'True',\n",
    " 'True',\n",
    " 'True',\n",
    " 'False',\n",
    " 'False',\n",
    " 'False',\n",
    " 'False',\n",
    " 'False',\n",
    " 'False',\n",
    " 'False',\n",
    " 'False',\n",
    " 'False',\n",
    " 'False',\n",
    " 'False',\n",
    " 'False',\n",
    " 'False',\n",
    " 'False',\n",
    " 'False',\n",
    " 'False',\n",
    " 'False',\n",
    " 'False','False',\n",
    " 'True',\n",
    " 'False',\n",
    " 'False',\n",
    " 'False',\n",
    " 'True',\n",
    " 'False']"
   ]
  },
  {
   "cell_type": "code",
   "execution_count": 22,
   "metadata": {},
   "outputs": [
    {
     "data": {
      "text/plain": [
       "0.5"
      ]
     },
     "execution_count": 22,
     "metadata": {},
     "output_type": "execute_result"
    }
   ],
   "source": [
    "CoT_acc = calcu_result(CoT_result)\n",
    "CoT_acc\n",
    "# 0.5"
   ]
  },
  {
   "cell_type": "markdown",
   "metadata": {},
   "source": [
    "### Self-Consistency"
   ]
  },
  {
   "cell_type": "code",
   "execution_count": 13,
   "metadata": {},
   "outputs": [],
   "source": [
    "# 將結果存入 list\n",
    "self_result = []\n",
    "\n",
    "# 使用for迴圈遍歷phishing_emails的\"Email Text\"欄位\n",
    "# 將是否答對存進 list 中，而非回答的答案\n",
    "for i in range(10):\n",
    "    result = normal_chain.invoke(phishing_emails[\"Email Text\"].iloc[0])\n",
    "    if \"True\" in result or \"true\" in result:\n",
    "        self_result.append(\"True\")\n",
    "    else:\n",
    "        self_result.append(\"False\")\n",
    "\n",
    "for i in range(10):\n",
    "    result = normal_chain.invoke(safe_emails[\"Email Text\"].iloc[0])\n",
    "    if \"False\" in result or \"false\" in result:\n",
    "        self_result.append(\"True\")\n",
    "    else:\n",
    "        self_result.append(\"False\")"
   ]
  },
  {
   "cell_type": "code",
   "execution_count": null,
   "metadata": {},
   "outputs": [
    {
     "data": {
      "text/plain": [
       "0.65"
      ]
     },
     "execution_count": 14,
     "metadata": {},
     "output_type": "execute_result"
    }
   ],
   "source": [
    "self_acc = calcu_result(self_result)\n",
    "self_acc\n",
    "# 0.65"
   ]
  },
  {
   "cell_type": "markdown",
   "metadata": {},
   "source": [
    "## RAG"
   ]
  },
  {
   "cell_type": "markdown",
   "metadata": {},
   "source": [
    "讀入 PDF 檔\n"
   ]
  },
  {
   "cell_type": "code",
   "execution_count": 26,
   "metadata": {},
   "outputs": [
    {
     "data": {
      "text/plain": [
       "[Document(page_content='SMA\\nFinal Project悲傷 Peter 與他的快樂⼩伙伴\\n組員\\nB094020046 ⿈奕瑋\\nB094020011  邱亮傑\\nB094020007 陳⽂薇\\nM124020010 鄭雅云', metadata={'source': './dataset/PhishingMail_Analysis.pdf', 'page': 0}),\n",
       " Document(page_content='Overview\\nEDA、詞頻分析 01\\n情緒分析 04詞性分析 02\\n主題模型 03\\n分類器 05\\n總結 06', metadata={'source': './dataset/PhishingMail_Analysis.pdf', 'page': 1}),\n",
       " Document(page_content='平均字數 535.17\\n字數標準差 25850.65\\n最少字數 0\\n25% 字數 74\\n50% 字數 160\\n75% 字數 354\\n最多字數 3527576EDA\\n資料集： Kaggle 上的釣⿂信件資料集了解資料集\\n資料欄位數： 3 個欄位  – index, Email Text, Email Type\\nEmail Type ： Safe Email, Phishing Email\\n資料筆數： 18650 筆資料來源：\\nhttps://www.kaggle.com/datasets/\\nsubhajournal/phishingemails/data', metadata={'source': './dataset/PhishingMail_Analysis.pdf', 'page': 2}),\n",
       " Document(page_content='詞頻分析\\n分類觀察：總信件、安全信件、釣⿂信件計算去除停⽤字後的斷詞詞頻\\nenron  事件\\n使⽤者設定  languageenron  事件\\n使⽤者設定  languagecompany\\nfree、 get 、 click 、 money詞頻分析結果與後續分析結果幾乎⼀致：釣⿂信件具明顯特徵', metadata={'source': './dataset/PhishingMail_Analysis.pdf', 'page': 3}),\n",
       " Document(page_content='詞頻分析\\n分類觀察：總信件、安全信件、釣⿂信件計算去除停⽤字後的斷詞詞頻\\nenron  事件\\n使⽤者設定  languageenron  事件\\n使⽤者設定  language詞頻分析結果與後續分析結果幾乎⼀致：釣⿂信件具明顯特徵\\ncompany\\nfree、 get 、 click 、 money', metadata={'source': './dataset/PhishingMail_Analysis.pdf', 'page': 4}),\n",
       " Document(page_content='POS 詞性分析\\n分類觀察：總釣⿂信件  POS 分布、各詞性相關字詞分析 lemmatized 後的釣⿂信件內容的 POS 詞性\\n合併 NN 與  NNS = NN \\n合併 VB, VBN,... =V\\n不會納⼊  CD 基數company, business\\ninformation, money, timeget, make\\nreceive, send, click', metadata={'source': './dataset/PhishingMail_Analysis.pdf', 'page': 5}),\n",
       " Document(page_content='POS 詞性分析\\n分類觀察：總釣⿂信件  POS 分布、各詞性相關字詞分析 lemmatized 後的釣⿂信件內容的 POS 詞性\\nfree\\nnew, many, available\\nbest\\nlatest, lowest, largest提到公司（ company 、 business ）並給予收信者⾦錢（ money ）\\n上的優惠，例如免費折扣（ free ）1.\\n強調這是最好（ best ）、最⼤（ largest ）的機會或最低（ lowest ）\\n的折扣，少部分則強調最新的優惠（ latest ）2.\\n請收信⼈點擊連結（ click ）、收下優惠（ receive ）、寄出回信\\n（send）等，以獲得更多的資訊（ information ）3.', metadata={'source': './dataset/PhishingMail_Analysis.pdf', 'page': 6}),\n",
       " Document(page_content='NER 詞性分析\\n分類觀察：總釣⿂信件  NER 分布、各詞性相關字詞分析 lemmatized 後的釣⿂信件內容的 NER 詞性\\nNUMBER ： money, time\\nDATE： latest美國\\n知名軟體公司\\nPOS： company, businesskeyword ： microsoft\\n軟體、費⽤ 1.\\n與詞頻分析和 POS 結果⼀致 2.', metadata={'source': './dataset/PhishingMail_Analysis.pdf', 'page': 7}),\n",
       " Document(page_content='LDA 主題模型 \\n主題⼀、藥草與軟體\\n      dagga、 botanical 、 herb 、 adobe 、 corel\\n主題⼆、送錢與中獎\\n      lottery、 million 、 free 、 goldrush\\n主題三、⾦融投資\\n      stock、 investment 、 security 、 shareholder\\n主題四、藥品與網⾴程式碼\\n      cialis、 viagra 、 pill 、 http 、 href 、 font\\n主題五、預付費詐騙有關主題\\n      nigeria、 lagos 、 deceased 、 foreigner 、 kin\\n主題六、減肥與亂碼\\n      dieting、 lean 、 fat 、 wor 、 knoPerplexity 最低值：主題數  = 6依據 perplexity 以及  pmi 找出最佳主題數\\n主題⼀、軟體\\n      adobe、 corel 、 macromedia 、 free 、 grant 、 get\\n主題⼆、藥草與保健⻝品\\n      dagga、 botanical 、 herb 、 dieting 、 aphrodisia\\n主題三、⾦融投資\\n      company 、 stock 、 investment 、 investor\\n主題四、醫療藥物與網⾴程式碼\\n      cialis、 xanax 、 dysfunction 、 http 、 href 、 fontPMI 最⾼值：主題數  = 4', metadata={'source': './dataset/PhishingMail_Analysis.pdf', 'page': 8}),\n",
       " Document(page_content='GuidedLDA 主題模型 \\n根據 LDA 分類結果定義  seed words\\n主題⼀、免費軟體\\n      adobe、 corel 、 macromedia 、 premiere 、 norton 、 acrobat 、 grant\\n主題⼆、⾦融投資\\n      stock、 investment 、 security 、 shareholder 、 investor 、 estimate 、 trading\\n主題三、醫療藥品\\n      cialis、 xanax 、 viagra 、 prozac 、 dagga 、 phentermine 、 aphrodisia\\n主題四、送錢與中獎\\n      nigeria、 deceased 、 foreigner 、 lottery 、 goldrush 、 moneymaking 、 nigerian\\n主題五、網⾴程式碼\\n      http、 href 、 font 、 www 、 br 、 td 、 phpSeed Words', metadata={'source': './dataset/PhishingMail_Analysis.pdf', 'page': 9})]"
      ]
     },
     "execution_count": 26,
     "metadata": {},
     "output_type": "execute_result"
    }
   ],
   "source": [
    "# 載入 PDF 文件，將文件分割成一頁一頁\n",
    "loader = PyPDFLoader(\"./dataset/PhishingMail_Analysis.pdf\")\n",
    "pages = loader.load()\n",
    "\n",
    "# 將 PDF 內容分割成小段落\n",
    "text_splitter = RecursiveCharacterTextSplitter(\n",
    "    # 分割的字元數量\n",
    "    chunk_size=1000,\n",
    "    # 每個段落之間的重疊字元數量\n",
    "    chunk_overlap=200,\n",
    "    length_function=len,\n",
    "    is_separator_regex=False,\n",
    ")\n",
    "texts = text_splitter.split_documents(pages)\n",
    "texts[:10]"
   ]
  },
  {
   "cell_type": "markdown",
   "metadata": {},
   "source": [
    "將 PDF 內資料 embedding，並存入向量資料庫"
   ]
  },
  {
   "cell_type": "code",
   "execution_count": null,
   "metadata": {},
   "outputs": [],
   "source": [
    "# 建立 embedding function\n",
    "embedding_function = SentenceTransformerEmbeddings(model_name=\"lier007/xiaobu-embedding\")\n",
    "# 建立向量資料庫 (Chroma)，並將 texts 轉換為向量儲存\n",
    "vectorstore = Chroma.from_documents(documents=texts, embedding=embedding_function)\n",
    "# Retriever 能夠根據查詢內容找到最相關的文字片段\n",
    "retriever = vectorstore.as_retriever()"
   ]
  },
  {
   "cell_type": "code",
   "execution_count": null,
   "metadata": {},
   "outputs": [
    {
     "name": "stdout",
     "output_type": "stream",
     "text": [
      "BERTopic 主題模型 \n",
      "BERTopic 分類結果\n",
      "各主題代表字\n",
      "主題⼀、釣⿂信件的常⾒⽤詞\n",
      "      free、 company 、 information 、 report 、 get\n",
      "主題⼆、國家與政府\n",
      "      enenkio 、 islands 、 kingdom 、 marshall 、 atoll\n",
      "主題三、科技技術\n",
      "      fuel、 battery 、 cell 、 box 、 ones\n",
      "主題四、網⾴程式碼\n",
      "     function 、 documentwritett 、 easy 、 var 、 pattern主題五、宗教\n",
      "      cns、 counseling 、 christian 、 crditos 、 theological\n",
      "主題六、學術領域\n",
      "      karpenkov 、 dcenter 、 align 、 occurrences 、 conductors\n",
      "主題七、健康與醫學\n",
      "      acts、 organs 、 pathway 、 endocrine 、 neuro\n",
      "BERTopic 更詳細的分割不同主題，我們可以知道除了  LDA 所分出的常⾒主題外，釣⿂信還包含了各式各樣的主題。\n",
      "這也提醒我們需要更加警覺，因為釣⿂信會變換多種形式和內容進⾏釣⿂。\n"
     ]
    }
   ],
   "source": [
    "# query it\n",
    "query = \"釣魚信件有哪些主題\"\n",
    "docs = vectorstore.similarity_search(query)\n",
    "\n",
    "print(docs[0].page_content)"
   ]
  },
  {
   "cell_type": "code",
   "execution_count": null,
   "metadata": {},
   "outputs": [],
   "source": [
    "def format_docs(docs):\n",
    "    return \"\\n\\n\".join(doc.page_content for doc in docs)\n",
    "\n",
    "rag_prompt_templete = \"\"\"<start_of_turn>user\n",
    "\"角色\": \"資安專家\",\n",
    "\"工作內容\":\n",
    "你是一位資安專家，將會幫助判斷以下郵件是否為釣魚信件。\\n\n",
    "現在給予以下相關文件, 你可以參考以下[文件][文件]中的相關文件，來判斷郵件是否為釣魚信件。\\n\n",
    "請逐步分析郵件的內容，並按照以下流程進行：\n",
    "1. 提取郵件的主旨與目的。\n",
    "2. 分析郵件的語言特徵（例如是否使用過於吸引人的措辭、過多的呼籲性語句）。\n",
    "3. 判斷是否包含潛在的釣魚信件特徵（例如要求用戶提供敏感信息、提供不可信的 URL 或強調緊急性）。\n",
    "4. 根據分析給出結論，如果是釣魚信件，請回答「True」，如果不是釣魚信件，請回答「False」。\n",
    "\\n\n",
    "[文件]\n",
    "{context}\n",
    "[文件]\n",
    "\n",
    "<</SYS>>\n",
    "現在，基於上述的文件，分析 () 中的郵件\\n[郵件]:({question})\\n<end_of_turn>\n",
    "<start_of_turn>model[結果]:\"\"\"\n",
    "\n",
    "rag_prompt = PromptTemplate.from_template(rag_prompt_templete)\n",
    "\n",
    "rag_chain = (\n",
    "    {\"context\": retriever | format_docs, \"question\": RunnablePassthrough()}\n",
    "    | rag_prompt\n",
    "    | llm\n",
    ")\n",
    "# rag_chain.get_graph().print_ascii()"
   ]
  },
  {
   "cell_type": "code",
   "execution_count": null,
   "metadata": {},
   "outputs": [],
   "source": [
    "# 將結果存入 list\n",
    "rag_result = []\n",
    "\n",
    "# 使用for迴圈遍歷phishing_emails的\"Email Text\"欄位\n",
    "# 將是否答對存進 list 中，而非回答的答案\n",
    "for email_text in phishing_emails[\"Email Text\"]:\n",
    "    result = rag_chain.invoke(email_text)\n",
    "    if \"True\" in result or \"true\" in result:\n",
    "        rag_result.append(\"True\")\n",
    "    else:\n",
    "        rag_result.append(\"False\")\n",
    "\n",
    "for email_text in safe_emails[\"Email Text\"]:\n",
    "    result = rag_chain.invoke(email_text)\n",
    "    if \"False\" in result or \"false\" in result:\n",
    "        rag_result.append(\"True\")\n",
    "    else:\n",
    "        rag_result.append(\"False\")"
   ]
  },
  {
   "cell_type": "markdown",
   "metadata": {},
   "source": [
    "rag_result = ['True', 'True', 'True', 'True','False',\n",
    " 'True',\n",
    " 'True',\n",
    " 'True',\n",
    " 'True',\n",
    " 'True',\n",
    " 'True',\n",
    " 'True',\n",
    " 'False',\n",
    " 'True',\n",
    " 'True',\n",
    " 'True',\n",
    " 'True',\n",
    " 'True',\n",
    " 'True',\n",
    " 'True',\n",
    " 'True',\n",
    " 'True',\n",
    " 'True',\n",
    " 'True',\n",
    " 'True','True',\n",
    " 'True',\n",
    " 'True',\n",
    " 'True',\n",
    " 'False',\n",
    " 'False',\n",
    " 'False',\n",
    " 'True',\n",
    " 'False',\n",
    " 'False',\n",
    " 'True',\n",
    " 'True',\n",
    " 'False',\n",
    " 'False',\n",
    " 'True',\n",
    " 'False',\n",
    " 'False',\n",
    " 'False',\n",
    " 'False',\n",
    " 'True',\n",
    " 'False',\n",
    " 'False',\n",
    " 'True',\n",
    " 'True',\n",
    " 'False']"
   ]
  },
  {
   "cell_type": "code",
   "execution_count": null,
   "metadata": {},
   "outputs": [
    {
     "data": {
      "text/plain": [
       "0.68"
      ]
     },
     "execution_count": 18,
     "metadata": {},
     "output_type": "execute_result"
    }
   ],
   "source": [
    "rag_acc = calcu_result(rag_result)\n",
    "rag_acc\n",
    "# 0.68"
   ]
  },
  {
   "cell_type": "code",
   "execution_count": null,
   "metadata": {},
   "outputs": [
    {
     "name": "stdout",
     "output_type": "stream",
     "text": [
      "             Method  Accuracy\n",
      "0            Normal      0.58\n",
      "1          Few-shot      0.68\n",
      "2               CoT      0.50\n",
      "3  Self-consistency      0.65\n",
      "4               RAG      0.68\n"
     ]
    }
   ],
   "source": [
    "# 建立數據\n",
    "data = {\n",
    "    \"Method\": [\"Normal\", \"Few-shot\", \"CoT\", \"Self-consistency\", \"RAG\"],\n",
    "    \"Accuracy\": [normal_acc, fewshot_acc, CoT_acc, self_acc, rag_acc]\n",
    "}\n",
    "\n",
    "# 轉換為 DataFrame\n",
    "df = pd.DataFrame(data)\n",
    "\n",
    "# 顯示表格\n",
    "print(df)"
   ]
  },
  {
   "cell_type": "markdown",
   "metadata": {},
   "source": [
    "根據結果來看 RAG 以及 Few-Shot 有著最好的結果。<br>\n",
    "CoT 的結果沒有預期來的好，從 result 來看，模型將幾乎所有信件當成釣魚信件。"
   ]
  }
 ],
 "metadata": {
  "kernelspec": {
   "display_name": "Python 3",
   "language": "python",
   "name": "python3"
  },
  "language_info": {
   "codemirror_mode": {
    "name": "ipython",
    "version": 3
   },
   "file_extension": ".py",
   "mimetype": "text/x-python",
   "name": "python",
   "nbconvert_exporter": "python",
   "pygments_lexer": "ipython3",
   "version": "3.10.7"
  }
 },
 "nbformat": 4,
 "nbformat_minor": 2
}
