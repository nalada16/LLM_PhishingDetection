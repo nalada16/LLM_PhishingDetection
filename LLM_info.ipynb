{
 "cells": [
  {
   "cell_type": "markdown",
   "metadata": {},
   "source": [
    "# LLM Information Extraction\n",
    "國立中山大學 112-2 社群媒體分析 課堂作業 \n",
    "\n",
    "學生：黃奕瑋\n",
    "\n",
    "使用 Langchian 套件與 HuggingFace 模型來實作：\n",
    "1. LLM Inference 基本範例\n",
    "2. Prompt Engineering\n",
    "3. Information Extraction(Sentiment classification, NER)"
   ]
  },
  {
   "cell_type": "markdown",
   "metadata": {},
   "source": [
    "## Packet Install"
   ]
  },
  {
   "cell_type": "code",
   "execution_count": null,
   "metadata": {},
   "outputs": [],
   "source": [
    "import os\n",
    "from getpass import getpass\n",
    "\n",
    "import pandas as pd\n",
    "import ast\n",
    "import json\n",
    "import re\n",
    "import jieba\n",
    "\n",
    "from transformers import AutoModelForCausalLM, AutoTokenizer, pipeline\n",
    "from langchain_community.llms.huggingface_pipeline import HuggingFacePipeline\n",
    "from transformers import BitsAndBytesConfig # huggingface 量化\n",
    "\n",
    "from langchain_community.llms import HuggingFaceEndpoint\n",
    "\n",
    "from langchain_core.prompts import PromptTemplate\n",
    "from langchain_core.prompts import ChatPromptTemplate\n",
    "\n",
    "from langchain_core.runnables import RunnablePassthrough\n",
    "from langchain_core.runnables import RunnableParallel\n",
    "from langchain_core.runnables import RunnableLambda\n",
    "\n",
    "from langchain_core.output_parsers import JsonOutputParser\n",
    "from langchain_core.pydantic_v1 import BaseModel, Field\n",
    "\n",
    "from langchain_community.document_loaders import PyPDFLoader\n",
    "from langchain_text_splitters import RecursiveCharacterTextSplitter\n",
    "from langchain_chroma import Chroma\n",
    "from langchain_community.embeddings.sentence_transformer import (\n",
    "    SentenceTransformerEmbeddings,\n",
    ")"
   ]
  },
  {
   "cell_type": "code",
   "execution_count": 2,
   "metadata": {},
   "outputs": [
    {
     "data": {
      "text/plain": [
       "True"
      ]
     },
     "execution_count": 2,
     "metadata": {},
     "output_type": "execute_result"
    }
   ],
   "source": [
    "import torch\n",
    "torch.cuda.is_available()"
   ]
  },
  {
   "cell_type": "markdown",
   "metadata": {},
   "source": [
    "## HuggingFace Token"
   ]
  },
  {
   "cell_type": "code",
   "execution_count": 3,
   "metadata": {},
   "outputs": [],
   "source": [
    "# 輸入 huggingface 的 token\n",
    "HUGGINGFACEHUB_API_TOKEN = getpass()\n",
    "os.environ[\"HUGGINGFACEHUB_API_TOKEN\"] = HUGGINGFACEHUB_API_TOKEN"
   ]
  },
  {
   "cell_type": "markdown",
   "metadata": {},
   "source": [
    "## 載入 LLM 模型"
   ]
  },
  {
   "cell_type": "code",
   "execution_count": 4,
   "metadata": {},
   "outputs": [
    {
     "name": "stderr",
     "output_type": "stream",
     "text": [
      "`low_cpu_mem_usage` was None, now set to True since model is quantized.\n"
     ]
    },
    {
     "data": {
      "application/vnd.jupyter.widget-view+json": {
       "model_id": "ba388facd2364be982a7b2f1ac135efd",
       "version_major": 2,
       "version_minor": 0
      },
      "text/plain": [
       "Loading checkpoint shards:   0%|          | 0/4 [00:00<?, ?it/s]"
      ]
     },
     "metadata": {},
     "output_type": "display_data"
    },
    {
     "name": "stderr",
     "output_type": "stream",
     "text": [
      "c:\\Users\\win90\\AppData\\Local\\Programs\\Python\\Python310\\lib\\site-packages\\langchain_core\\_api\\deprecation.py:119: LangChainDeprecationWarning: The class `HuggingFacePipeline` was deprecated in LangChain 0.0.37 and will be removed in 0.3. An updated version of the class exists in the from rom langchain-huggingface package and should be used instead. To use it run `pip install -U from rom langchain-huggingface` and import as `from from rom langchain_huggingface import llms import HuggingFacePipeline`.\n",
      "  warn_deprecated(\n"
     ]
    }
   ],
   "source": [
    "# 設定量化配置，可以用來減少模型記憶體占用\n",
    "quant_config = BitsAndBytesConfig(load_in_4bit=True)\n",
    "# 選擇要使用的模型\n",
    "model_id = \"google/gemma-1.1-7b-it\"\n",
    "# 載入 tokenizer\n",
    "tokenizer = AutoTokenizer.from_pretrained(model_id, token=HUGGINGFACEHUB_API_TOKEN)\n",
    "# 設定 device_map=\"auto\" 讓模型自動選擇 GPU / CPU\n",
    "device_map=\"auto\" \n",
    "# 載入語言模型\n",
    "model = AutoModelForCausalLM.from_pretrained(model_id, quantization_config=quant_config, token=HUGGINGFACEHUB_API_TOKEN)\n",
    "\n",
    "# 建立 text-generation pipeline，讓模型可以直接產生文本\n",
    "# max_new_tokens 生成文本的最大長度\n",
    "pipe = pipeline(\"text-generation\", model=model, tokenizer=tokenizer, max_new_tokens=300)\n",
    "# 使用 HuggingFacePipeline 封裝 pipeline 物件，讓它符合 langchain 的接口\n",
    "llm = HuggingFacePipeline(pipeline=pipe)"
   ]
  },
  {
   "cell_type": "markdown",
   "metadata": {},
   "source": [
    "### HuggingFaceEndpoint\n",
    "hugguingfaceEndpoint 是一個 langchain 的 LLM 物件，能夠讓開發者輕鬆地調用 Hugging Face 平台中的機器學習模型。"
   ]
  },
  {
   "cell_type": "code",
   "execution_count": 5,
   "metadata": {},
   "outputs": [
    {
     "name": "stderr",
     "output_type": "stream",
     "text": [
      "c:\\Users\\win90\\AppData\\Local\\Programs\\Python\\Python310\\lib\\site-packages\\langchain_core\\_api\\deprecation.py:119: LangChainDeprecationWarning: The class `HuggingFaceEndpoint` was deprecated in LangChain 0.0.37 and will be removed in 0.3. An updated version of the class exists in the from langchain-huggingface package and should be used instead. To use it run `pip install -U from langchain-huggingface` and import as `from from langchain_huggingface import llms import HuggingFaceEndpoint`.\n",
      "  warn_deprecated(\n"
     ]
    },
    {
     "name": "stdout",
     "output_type": "stream",
     "text": [
      "The token has not been saved to the git credentials helper. Pass `add_to_git_credential=True` in this function directly or `--add-to-git-credential` if using via `huggingface-cli` if you want to set the git credential as well.\n",
      "Token is valid (permission: read).\n",
      "Your token has been saved to C:\\Users\\win90\\.cache\\huggingface\\token\n",
      "Login successful\n"
     ]
    }
   ],
   "source": [
    "# 透過 Hugging Face API 部署的 Endpoint 來呼叫模型\n",
    "# temperature: 模型回答的創意程度，0~1 越大每次回答的多樣性越高\n",
    "llm = HuggingFaceEndpoint(\n",
    "    repo_id=model_id, temperature=1.0, model_kwargs={'use_cache':False}, huggingfacehub_api_token=HUGGINGFACEHUB_API_TOKEN\n",
    ")"
   ]
  },
  {
   "cell_type": "markdown",
   "metadata": {},
   "source": [
    "### Chain\n",
    "- LCEL (LangChain Expression Language)\n",
    "    - 官網介紹：https://python.langchain.com/v0.1/docs/expression_language/why/\n",
    "    - Langchain 說明：LCEL 可以讓我們更簡單的開發複雜的 chain 應用，可以支援：Streaming, Parallelism, logging。\n",
    "    - 為了簡單化，LCEL 有兩的主要功能\n",
    "        1. 統一的協定(Protocol)：所有的 LCEL object 都要遵照 Runnable interface，簡單來說都要包含以下方法，來讓多個 LCEL object 之間可以 chain(鏈結起來):\n",
    "            1. invoke (支援單一輸入、單一輸出）\n",
    "            2. batch (支援多個輸入、多個輸出）\n",
    "            3. stream (支援有部分結果就輸出的模式)\n",
    "            - 詳細定義：\n",
    "                1. https://api.python.langchain.com/en/stable/runnables/langchain_core.runnables.base.Runnable.html#langchain_core.runnables.base.Runnable\n",
    "                2. https://python.langchain.com/v0.1/docs/expression_language/interface/\n",
    "        2. 組合語言：讓 chain 的組合更容易\n",
    "            - 提供不同元件組合的功能，使用 \"|\" 將不同元件串在一起，例如：prompt | llm\n",
    "- Chain\n",
    "    - 可重複執行\n",
    "    - 可自由組合\n",
    "    - 有兩種主要的型態\n",
    "        1. RunnableSequence: 依序執行每個 Runnable\n",
    "        2. RunnableParallel: 同時執行 Runnable"
   ]
  },
  {
   "cell_type": "code",
   "execution_count": 6,
   "metadata": {},
   "outputs": [
    {
     "name": "stdout",
     "output_type": "stream",
     "text": [
      "\n",
      "\n",
      "自然語言處理（NLP）是一種用於理解和產生人類語言的計算機技術。它是一種與人類語言學和計算機科學交匯的領域，專注於開發技術，使計算機能夠理解和產生自然語言。\n",
      "\n",
      "**NLP 的目的：**\n",
      "\n",
      "* 讓計算機理解人類語言的含義。\n",
      "* 讓計算機生成人類語言。\n",
      "\n",
      "**NLP 的應用：**\n",
      "\n",
      "* 語言翻譯\n",
      "* 文本摘要\n",
      "* 情感分析\n",
      "* 自然語言查詢\n",
      "* 語音辨識\n",
      "\n",
      "\n",
      "**NLP 的技術：**\n",
      "\n",
      "* 語彙分析：分析語言結構。\n",
      "* 語法分析：分析語言語法。\n",
      "* 詞彙庫建置：建立語言中的詞彙庫。\n",
      "* 情感分析：分析語言的情感內容。\n",
      "\n",
      "\n",
      "**NLP 的未來：**\n",
      "\n",
      "NLP 領域正在不斷發展，並有望在未來應用更廣泛。隨著技術的進步，我們可以預期 NLP 在以下領域有更大的應用：\n",
      "\n",
      "* 人工智慧輔助\n",
      "* 教育和學習\n",
      "* 健康診斷\n",
      "* 自動化工作流程\n",
      "\n",
      "\n",
      "**結論：**\n",
      "\n",
      "自然語言處理是一種先進的計算機技術，用於理解和產生人類語言。其應用廣泛，並在未來有更大的應用，以促進人類與計算機之間的溝通。\n"
     ]
    }
   ],
   "source": [
    "print(llm.invoke(\"自然語言處理是什麼？\"))"
   ]
  },
  {
   "cell_type": "markdown",
   "metadata": {},
   "source": [
    "#### RunnableSequence\n",
    "- 依序執行每個 Runnable\n",
    "- 使用 \"|\" 連結"
   ]
  },
  {
   "cell_type": "markdown",
   "metadata": {},
   "source": [
    "使用 PromptTemplate 建立 Prompt 模板"
   ]
  },
  {
   "cell_type": "code",
   "execution_count": 7,
   "metadata": {},
   "outputs": [],
   "source": [
    "# 這裡的 {question} 是一個變數，會在執行時被替換成實際的問題\n",
    "template = \"\"\"你是一位 {role}，請幫以下句子的評分情緒分數（介於 -1.0~1.0，越高分代表越正向，反之越負向）: {question}\"\"\"\n",
    "\n",
    "# 使用 PromptTemplate 來建立模板，這樣可以讓我們在執行時動態地替換變數\n",
    "prompt = PromptTemplate.from_template(template)\n",
    "\n",
    "# 利用 dictionary 來傳遞變數的值，這樣就可以在執行時替換模板中的變數\n",
    "prompt_output = prompt.invoke({\"role\" : \"社群評論專家\", \"question\": '這家餐廳的料理廚藝了得！'})"
   ]
  },
  {
   "cell_type": "code",
   "execution_count": null,
   "metadata": {},
   "outputs": [],
   "source": [
    "print(prompt_output)\n",
    "print(llm.invoke(prompt_output))"
   ]
  },
  {
   "cell_type": "markdown",
   "metadata": {},
   "source": [
    "建立 RunnableSequence：\n",
    "1. RunnablePassthrough() ： 在 invoke 時將 value 丟進來\n",
    "2. prompt.invoke(...) \n",
    "3. llm.invoke(...)"
   ]
  },
  {
   "cell_type": "code",
   "execution_count": 8,
   "metadata": {},
   "outputs": [],
   "source": [
    "# 把東西丟進 question，出來的結果再丟進 prompt，結果再丟進 llm\n",
    "sentiment_value_chain = ( \n",
    "    {\"role\" : RunnablePassthrough(), \"question\": RunnablePassthrough()}\n",
    "    | prompt\n",
    "    | llm\n",
    ")"
   ]
  },
  {
   "cell_type": "code",
   "execution_count": null,
   "metadata": {},
   "outputs": [],
   "source": [
    "result = sentiment_value_chain.invoke({\"role\" : '社群評論專家', \"question\": '這家餐廳的料理廚藝了得！'})\n",
    "print(result)"
   ]
  },
  {
   "cell_type": "markdown",
   "metadata": {},
   "source": [
    "#### RunnableParallel\n",
    "- 同時執行多個 Runnable\n",
    "- 使用 \"|\" 連結"
   ]
  },
  {
   "cell_type": "markdown",
   "metadata": {},
   "source": [
    "情緒分析 function 設定"
   ]
  },
  {
   "cell_type": "code",
   "execution_count": 9,
   "metadata": {},
   "outputs": [],
   "source": [
    "# 設定繁體中文詞庫\n",
    "jieba.set_dictionary(\"./dict/dict.txt.big\")\n",
    "\n",
    "# 新增stopwords\n",
    "# jieba.analyse.set_stop_words('./dict/stop_words.txt') #jieba.analyse.extract_tags才會作用\n",
    "with open(\"./dict/stop_words.txt\", encoding=\"utf-8\") as f:\n",
    "    stopWords = [line.strip() for line in f.readlines()]\n",
    "\n",
    "# 設定斷詞 function\n",
    "def getToken(row):\n",
    "    seg_list = jieba.cut(row, cut_all=False)\n",
    "    seg_list = [\n",
    "        w for w in seg_list if w not in stopWords and len(w) > 1\n",
    "    ]  # 篩選掉停用字與字元數大於1的詞彙\n",
    "    return seg_list\n",
    "\n",
    "# 讀取情緒字典\n",
    "liwc_dict = pd.read_csv(\"./dict/liwc/LIWC_CH.csv\")\n",
    "liwc_dict = liwc_dict.rename(columns={'name': 'word', \"class\": 'sentiments'})\n",
    "# call lexicon base function\n",
    "# 情緒分析\n",
    "def lexicon_base_sentiment_value(value: dict) -> str:\n",
    "    tokens = getToken(value['question'])\n",
    "    df = pd.DataFrame(tokens, columns=['word'])\n",
    "    liwc_df = pd.merge(df, liwc_dict, how=\"left\")\n",
    "    sentiment_count = pd.DataFrame(\n",
    "        liwc_df.groupby([\"sentiments\"]).size()\n",
    "    ).reset_index()\n",
    "    result_dict = sentiment_count.set_index('sentiments')[0].to_dict()\n",
    "    print(result_dict)\n",
    "    s_value = (result_dict.get('positive') if result_dict.get('positive') != None else 0) - (result_dict.get('negative') if result_dict.get('negative') != None else 0)\n",
    "    return s_value\n"
   ]
  },
  {
   "cell_type": "code",
   "execution_count": 11,
   "metadata": {},
   "outputs": [
    {
     "name": "stdout",
     "output_type": "stream",
     "text": [
      "{}\n",
      "{'runnable_1': 0, 'runnable_2': '。\\n\\n評分情緒分數：0.8\\n\\n**評估說明：**這句子的情緒分數為 0.8，代表這句子表示對料理廚藝的肯定，並且帶有愉悅的情緒。'}\n"
     ]
    }
   ],
   "source": [
    "lexicon_sentiment_value_chain = RunnableLambda(lexicon_base_sentiment_value)\n",
    "\n",
    "# 同時執行 情緒分析 和 RunnableSequence\n",
    "parallel = {\"runnable_1\": lexicon_sentiment_value_chain, \"runnable_2\": sentiment_value_chain}\n",
    "chain = RunnableLambda(lambda x: x) | parallel\n",
    "# chain = RunnableParallel(lexicon=lexicon_sentiment_value_chain, LLM=sentiment_value_chain)\n",
    "result = chain.invoke({\"role\" : '社群評論專家', \"question\": '這家餐廳的料理廚藝了得！'})\n",
    "\n",
    "print(result)"
   ]
  },
  {
   "cell_type": "markdown",
   "metadata": {},
   "source": [
    "### Prompt templete\n",
    "- 官網：https://python.langchain.com/v0.1/docs/modules/model_io/prompts/quick_start/\n",
    "- Prompt templete 可以預先定義一個要輸入給 LLM 的文字模板\n",
    "- Langchian prompt templete 通常有兩種型態：\n",
    "    1. PromptTemplate: string (前面用的)\n",
    "    2. ChatPromptTemplate: list of chat messages"
   ]
  },
  {
   "cell_type": "markdown",
   "metadata": {},
   "source": [
    "#### ChatPromptTemplate: list of chat messages\n",
    "- 內容為 chat message，當中有 \"role\" 角色的概念，讓 LLM 了解內容是什麼角色說的\n",
    "- system: 這個role負責的是類似系統設定的文字提示，例如跟 LLM 說他是一個工程師，接下來要請他用他的專業寫 code；或是跟 LLM 說他是一個厲害的數學家，要請他用他的專業解題。\n",
    "- user: 使用者說的話，例如問 LLM 的問題。"
   ]
  },
  {
   "cell_type": "code",
   "execution_count": 13,
   "metadata": {},
   "outputs": [
    {
     "name": "stdout",
     "output_type": "stream",
     "text": [
      "{'title': 'PromptInput', 'type': 'object', 'properties': {'name': {'title': 'Name', 'type': 'string'}, 'user_input': {'title': 'User Input', 'type': 'string'}}}\n"
     ]
    },
    {
     "data": {
      "text/plain": [
       "[SystemMessage(content='You are a helpful AI bot. Your name is Bob.'),\n",
       " HumanMessage(content='Hello, how are you doing?'),\n",
       " AIMessage(content=\"I'm doing well, thanks!\"),\n",
       " HumanMessage(content='What is your name?')]"
      ]
     },
     "execution_count": 13,
     "metadata": {},
     "output_type": "execute_result"
    }
   ],
   "source": [
    "# 輸入一連串的對話模板\n",
    "chat_template = ChatPromptTemplate.from_messages(\n",
    "    [\n",
    "        (\"system\", \"You are a helpful AI bot. Your name is {name}.\"),\n",
    "        (\"human\", \"Hello, how are you doing?\"),\n",
    "        (\"ai\", \"I'm doing well, thanks!\"),\n",
    "        (\"human\", \"{user_input}\"),\n",
    "    ]\n",
    ")\n",
    "\n",
    "# 從 print 出文字可以看出，有 {name} 和 {user_input} 兩個變數\n",
    "print(chat_template.input_schema.schema())"
   ]
  },
  {
   "cell_type": "code",
   "execution_count": 16,
   "metadata": {},
   "outputs": [
    {
     "name": "stdout",
     "output_type": "stream",
     "text": [
      "messages=[SystemMessage(content='You are a helpful AI bot. Your name is Bob.'), HumanMessage(content='Hello, how are you doing?'), AIMessage(content=\"I'm doing well, thanks!\"), HumanMessage(content='What is your name?')]\n",
      "System: You are a helpful AI bot. Your name is Bob.\n",
      "Human: Hello, how are you doing?\n",
      "AI: I'm doing well, thanks!\n",
      "Human: What is your name?\n"
     ]
    }
   ],
   "source": [
    "# 執行模板，並傳入變數的值\n",
    "chat_prompt = chat_template.invoke({\"name\": \"Bob\", \"user_input\":\"What is your name?\"})\n",
    "\n",
    "print(chat_prompt)\n",
    "print(chat_prompt.to_string())"
   ]
  },
  {
   "cell_type": "markdown",
   "metadata": {},
   "source": [
    "# Prompt engineering\n",
    "- Prompt 的設計有很大程度會影響 LLM 的輸出，甚至影響 LLM 整體能力，以下會介紹幾個常用的 prompt 技巧\n",
    "    1. Few-shot\n",
    "    2. Chain of thought(CoT)\n",
    "    3. Self-consistency"
   ]
  },
  {
   "cell_type": "markdown",
   "metadata": {},
   "source": [
    "## 一般的 Prompt"
   ]
  },
  {
   "cell_type": "code",
   "execution_count": 23,
   "metadata": {},
   "outputs": [],
   "source": [
    "normal_template = \"\"\"<start_of_turn>user\n",
    "你是一位數學家，將會幫助回答數學問題。\n",
    "\n",
    "問題：{question}<end_of_turn>\n",
    "<start_of_turn>model\n",
    "答案：\"\"\"\n",
    "\n",
    "normal_prompt = PromptTemplate.from_template(normal_template)\n",
    "\n",
    "normal_chain = (\n",
    "    {\"question\": RunnablePassthrough()}\n",
    "    | normal_prompt\n",
    "    | llm\n",
    ")"
   ]
  },
  {
   "cell_type": "code",
   "execution_count": null,
   "metadata": {},
   "outputs": [],
   "source": [
    "result = normal_chain.invoke(\"當我六歲的時候，我妹妹的年齡只有我的一半。 現在我70歲了，我妹妹幾歲了？\")\n",
    "print(result)"
   ]
  },
  {
   "cell_type": "markdown",
   "metadata": {},
   "source": [
    "## Few shot"
   ]
  },
  {
   "cell_type": "code",
   "execution_count": 18,
   "metadata": {},
   "outputs": [],
   "source": [
    "fewshot_template = \"\"\"<start_of_turn>user\n",
    "你是一位數學家，將會幫助回答數學問題。\n",
    "\n",
    "以下為一些例子：\n",
    "```\n",
    "問題：當我九歲的時候，我弟弟的年齡是我的三分之二。現在我54歲了，我弟弟幾歲了？\n",
    "答案：51歲\n",
    "\n",
    "問題：當我八歲的時候，我妹妹的年齡是我的四分之一。現在我48歲了，我妹妹幾歲了？\n",
    "答案：42歲\n",
    "```\n",
    "\n",
    "現在請回答以下問題\n",
    "問題：{question}<end_of_turn>\n",
    "<start_of_turn>model\n",
    "答案：\"\"\"\n",
    "\n",
    "fewshot_prompt = PromptTemplate.from_template(fewshot_template)\n",
    "\n",
    "fewshot_chain = (\n",
    "    {\"question\": RunnablePassthrough()}\n",
    "    | fewshot_prompt\n",
    "    | llm\n",
    ")"
   ]
  },
  {
   "cell_type": "code",
   "execution_count": 20,
   "metadata": {},
   "outputs": [
    {
     "name": "stdout",
     "output_type": "stream",
     "text": [
      "60歲。\n",
      "\n",
      "解法：\n",
      "如果我六歲的時候，我的妹妹的年齡只有我的一半，則我的妹妹比我小3歲。\n",
      "\n",
      "現在我70歲了，我的妹妹比我小3歲，則我的妹妹現在60歲了。\n"
     ]
    }
   ],
   "source": [
    "result = fewshot_chain.invoke(\"當我六歲的時候，我妹妹的年齡只有我的一半。 現在我70歲了，我妹妹幾歲了？\")\n",
    "print(result)"
   ]
  },
  {
   "cell_type": "markdown",
   "metadata": {},
   "source": [
    "## Chain of Thought (COT)"
   ]
  },
  {
   "cell_type": "code",
   "execution_count": 21,
   "metadata": {},
   "outputs": [],
   "source": [
    "CoT_template = \"\"\"<start_of_turn>user\n",
    "你是一位數學家，將會幫助回答數學問題。\n",
    "\n",
    "以下為一些例子：\n",
    "```\n",
    "例子1:\n",
    "問題：當我九歲的時候，我弟弟的年齡是我的三分之二。現在我54歲了，我弟弟幾歲了？\n",
    "答案：我們一步一步來計算。\n",
    "\n",
    "當你九歲的時候，你弟弟的年齡是你的三分之二：\n",
    "\n",
    "你9歲時，你弟弟是 9x(2/3) = 6歲。\n",
    "現在你54歲了：\n",
    "\n",
    "你比當時大了45歲（54 - 9 = 45）。\n",
    "因此，你弟弟現在也比當時大了45歲。\n",
    "計算你弟弟的年齡：\n",
    "\n",
    "你弟弟當時6歲，現在他比當時大45歲，所以他現在是6 + 45 = 51歲。\n",
    "所以，你弟弟現在51歲。\n",
    "\n",
    "\n",
    "例子2:\n",
    "問題：當我八歲的時候，我妹妹的年齡是我的四分之一。現在我48歲了，我妹妹幾歲了？\n",
    "答案：\n",
    "我們一步一步來計算。\n",
    "\n",
    "當你八歲的時候，你妹妹的年齡是你的四分之一：\n",
    "\n",
    "你8歲時，你妹妹是 8*(1/4)=2 歲。\n",
    "現在你48歲了：\n",
    "\n",
    "你比當時大了40歲（48 - 8 = 40）。\n",
    "因此，你妹妹現在也比當時大了40歲。\n",
    "計算你妹妹的年齡：\n",
    "\n",
    "你妹妹當時2歲，現在她比當時大40歲，所以她現在是2 + 40 = 42歲。\n",
    "```\n",
    "\n",
    "現在請回答以下問題\n",
    "問題：{question}<end_of_turn>\n",
    "<start_of_turn>model\n",
    "答案：\"\"\"\n",
    "\n",
    "CoT_prompt = PromptTemplate.from_template(CoT_template)\n",
    "\n",
    "CoT_chain = (\n",
    "    {\"question\": RunnablePassthrough()}\n",
    "    | CoT_prompt\n",
    "    | llm\n",
    ")"
   ]
  },
  {
   "cell_type": "code",
   "execution_count": 22,
   "metadata": {},
   "outputs": [
    {
     "name": "stdout",
     "output_type": "stream",
     "text": [
      "\n",
      "\n",
      "我們一步一步來計算。\n",
      "\n",
      "當你六歲的時候，你妹妹的年齡是你的一半：\n",
      "\n",
      "你6歲時，你妹妹是 6/2 = 3歲。\n",
      "現在你70歲了：\n",
      "\n",
      "你比當時大了64歲（70 - 6 = 64）。\n",
      "因此，你妹妹現在也比當時大了64歲。\n",
      "計算你妹妹的年齡：\n",
      "\n",
      "你妹妹當時3歲，現在她比當時大64歲，所以她現在是3 + 64 = 67歲。\n",
      "\n",
      "所以，你妹妹現在67歲。\n"
     ]
    }
   ],
   "source": [
    "result = CoT_chain.invoke(\"當我六歲的時候，我妹妹的年齡只有我的一半。 現在我70歲了，我妹妹幾歲了？\")\n",
    "print(result)"
   ]
  },
  {
   "cell_type": "markdown",
   "metadata": {},
   "source": [
    "由此可以發現，在數學問題上，COT 可以有效提高模型思考能力。"
   ]
  },
  {
   "cell_type": "markdown",
   "metadata": {},
   "source": [
    "## Self-Consistency"
   ]
  },
  {
   "cell_type": "code",
   "execution_count": 24,
   "metadata": {},
   "outputs": [
    {
     "name": "stdout",
     "output_type": "stream",
     "text": [
      "\n",
      "\n",
      "========== Run 1 ==========\n",
      "\n",
      "\n",
      "**50歲**\n",
      "\n",
      "設現在你的妹妹的年齡為x歲，而你的年齡為70歲。根據給定的資訊，我們知道：\n",
      "\n",
      "當你六歲的時候，你的妹妹的年齡只有你的一半，因此：\n",
      "x-6 = (70-6)/2\n",
      "\n",
      "解出x，得到：\n",
      "x-6 = 32\n",
      "x = 38\n",
      "\n",
      "因此，現在你的妹妹年齡為**38歲**。\n",
      "\n",
      "\n",
      "========== Run 2 ==========\n",
      "\n",
      "\n",
      "**50歲**\n",
      "\n",
      "**步驟：**\n",
      "\n",
      "1. 設我當時的年齡為 x 年。\n",
      "2. 妹妹的年齡為 x/2 年。\n",
      "3. 我的現在年齡為 70 年。\n",
      "4. 那麼妹妹的現在年齡為 (x/2) + (70 - x)。\n",
      "5. 因為她的年齡始終為我的一半，所以： (x/2) + (70 - x) = (1/2)x。\n",
      "6. 解出 x 的值，得到 x = 50。\n",
      "\n",
      "因此，妹妹現在 50 歲。\n",
      "\n",
      "\n",
      "========== Run 3 ==========\n",
      "\n",
      "\n",
      "**50歲**\n",
      "\n",
      "**解法：**\n",
      "\n",
      "設你的年齡現在為 x 年。\n",
      "\n",
      "當你六歲時，你的妹妹的年齡為 x/2 年。\n",
      "\n",
      "現在你的年齡為 70 年，因此：\n",
      "\n",
      "$$x-6=70$$\n",
      "\n",
      "$$x=70+6$$\n",
      "\n",
      "$$x=76$$\n",
      "\n",
      "你的妹妹的年齡現在為 (76-6)/2 = **50歲**。\n"
     ]
    }
   ],
   "source": [
    "for i in range(1, 4):\n",
    "  print(f\"\\n\\n========== Run {i} ==========\\n\\n\")\n",
    "  print(normal_chain.invoke(\"當我六歲的時候，我妹妹的年齡只有我的一半。 現在我70歲了，我妹妹幾歲了？\"))"
   ]
  },
  {
   "cell_type": "markdown",
   "metadata": {},
   "source": [
    "## Few shot + Self-consistency"
   ]
  },
  {
   "cell_type": "code",
   "execution_count": 25,
   "metadata": {},
   "outputs": [
    {
     "name": "stdout",
     "output_type": "stream",
     "text": [
      "\n",
      "\n",
      "========== Run 1 ==========\n",
      "\n",
      "\n",
      "65歲\n",
      "\n",
      "解釋：\n",
      "\n",
      "設我妹妹的年齡為x歲。\n",
      "\n",
      "根據問題中的描述，我們有以下等式：\n",
      "\n",
      "```\n",
      "x = (1/2) * 70\n",
      "```\n",
      "\n",
      "解出x，得到：\n",
      "\n",
      "```\n",
      "x = 35\n",
      "```\n",
      "\n",
      "因此，現在我的妹妹的年齡為**35歲**。\n",
      "\n",
      "\n",
      "========== Run 2 ==========\n",
      "\n",
      "\n",
      "65歲\n",
      "\n",
      "設下以下變量：\n",
      "\n",
      "* 我妹妹的年齡為 x 年。\n",
      "\n",
      "根據給定的資訊，我們知道：\n",
      "\n",
      "* 當我六歲的時候，x = (1/2) * 6 = 3 年。\n",
      "* 我現在 70歲了，所以我當時距今 70 - 6 = 64 年。\n",
      "\n",
      "因此，我的妹妹現在為：\n",
      "\n",
      "```\n",
      "x + 64 = 3 + 64 = 67\n",
      "```\n",
      "\n",
      "所以，我的妹妹現在 67歲了。\n",
      "\n",
      "\n",
      "========== Run 3 ==========\n",
      "\n",
      "\n",
      "65歲\n",
      "\n",
      "解法：\n",
      "如果我六歲的時候，我妹妹的年齡只有我的一半，則我妹妹的年齡為6/2=3歲。\n",
      "從那以後，我妹妹的年齡比我少3歲。\n",
      "現在我70歲了，我妹妹的年齡為70-3=65歲。\n"
     ]
    }
   ],
   "source": [
    "for i in range(1, 4):\n",
    "  print(f\"\\n\\n========== Run {i} ==========\\n\\n\")\n",
    "  print(fewshot_chain.invoke(\"當我六歲的時候，我妹妹的年齡只有我的一半。 現在我70歲了，我妹妹幾歲了？\"))"
   ]
  },
  {
   "cell_type": "markdown",
   "metadata": {},
   "source": [
    "原先Few shot 以及 Self-consistency 都沒有正確答案。 <br>\n",
    "但兩者結合後，就有機會算出正確解答。"
   ]
  },
  {
   "cell_type": "markdown",
   "metadata": {},
   "source": [
    "# RAG"
   ]
  },
  {
   "cell_type": "code",
   "execution_count": 26,
   "metadata": {},
   "outputs": [
    {
     "data": {
      "text/plain": [
       "[Document(page_content='國立中山大學  \\n112學年度第 2學期  \\n選課須知  \\n   \\n \\n \\n \\n \\n \\n \\n➢ 辦理依據：依本校學則第十條第三款訂定本 選課須知。 \\n➢ 中華民國 112年12月12日本校第 178次教務會議通過  \\n➢ 選課系統網址： https://selcrs.nsysu.edu.tw/', metadata={'source': './data/中大學1122選課須知.pdf', 'page': 0}),\n",
       " Document(page_content='目     錄 \\n \\n一、選課相關時程 ……………………………………………….1  \\n二、選課前注意事項 ……………………………………………. 2 \\n三、選課說明 …………………………………………………….3  \\n四、各階段辦理方式及注意事項  \\n（一）必修課程確認 ………………………………………. 4 \\n（二）超修學分申請 ………………………………………. 4 \\n（三）校際選課申請 （本校生）…………………………. 4 \\n（四）初選第 1階段 ………………………………………. 4 \\n（五）初選第 2階段 ………………………………………. 5\\n（六）加退選第 1、2階段 …………………………..……. 5 \\n（七）選課異常處理 ………………………………………. 6 \\n（八）確認選課紀錄 ………………………………………. 7 \\n（九）棄選 …………………………………………………. 7 \\n五、選課結果篩選次序 …………………………………………. 7 \\n六、選課相關規定 ………………………………………………. 8 \\n【附錄】本校課號編碼原則 ………………………………… .…11', metadata={'source': './data/中大學1122選課須知.pdf', 'page': 1}),\n",
       " Document(page_content='1 \\n 一、 選課相關時程：（請依時程辦理，逾時程除重大因素外，依規定不予補辦）  \\n階段  開始日期時間  截止日期時間  \\n112-2課程查詢  112年 12 / 27 (三) 13:00  \\n必修課程確認  1 / 26 (五) 09:00  3 / 1 (五) 17:00  \\n系所輔導學生選課  1 / 26 (五) 09:00  3 / 1 (五) 17:00  \\n校際選課申請 (本校生 ) \\n【請配合開課學校校際選課時\\n程辦理】 1 / 26 (五) 09:00  3 / 1 (五) 17:00  \\n超修學分申請  \\n(上網列印 ，紙本簽核 ) 1 / 26 (五) 09:00  3 / 1 (五) 17:00  \\n(請自行掌握列印及簽核時間 ) \\n【初選】 \\n初選 1 (限學士班選通識課 程) 1 / 26 (五) 09:00   1 / 30 (二) 17:00  \\n初選 1《結果公布》  1 / 31 (三) 14:00  \\n初選 2 2 / 1 (四) 09:00 2 / 5 (一) 17:00  \\n初選 2《結果公布》 2 / 6 (二) 14:00  \\n【加退選】  \\n加退選 1 2 / 22 (四) 09:00   2 / 23 (五) 17:00  \\n加退選 1《結果公布》 2 / 26 (一) 14:00  \\n加退選 2 2 / 29 (四) 09:00  3 / 1 (五) 17:00  \\n加退選 2《結果公布》 3 / 4 (一) 14:00  \\n【異常處理】  \\n選課異常處理  \\n(上網列印 ，紙本簽核 ) 3 / 5 (二) 09:00  3 / 11 (一) 17:00  \\n(請自行掌握列印及簽核時間 ) \\n確認選課紀錄  3 / 5 (二) 09:00   3 / 18 (一) 17:00  \\n【學分費繳交 】 \\n學分費繳交 (暫訂 ) 3 / 28 (四) 4 / 8 (一) \\n【棄選】  \\n棄選  \\n(上網列印 ,紙本簽核 ) 5 / 3 (五) 09:00  5 / 10 (五) 17:00  \\n(請自行掌握列印及簽核時間 ) \\n※各階段辦理方式參閱【 四、各階段辦理方式及注意事項】', metadata={'source': './data/中大學1122選課須知.pdf', 'page': 2}),\n",
       " Document(page_content='2 \\n 二、 選課前注意事項 ： \\n（一）  選課系統 相關網頁 ： \\n1. 「選課系統」 ：教務處網頁／學生專區／ 相關系統 ／網路註冊：\\nhttps://selcrs.nsysu.edu.tw/stu_enroll/ 選課系統       \\n或  教務處網頁／學生專區／ 相關系統 ／選課系統  \\n選課帳號為學生個人學號；初次選課新生，密碼預設為身分證末六碼，選課前，\\n請先修改密碼，以免選課資料遭人竄改。同學 若忘記密碼 ，可於校園單一入口 /簽\\n入帳號密碼，進行選課系統密碼 查詢作業，或攜帶學生證於上班時間至課務組查\\n詢。  \\n2. 「選課操作說明」 ：教務處首頁／學生專區／ 相關系統 ／選課系統網頁 ／選課須知\\n與法規查詢 ／選課操作說明。  \\n3. 「學期課程查詢 」：選課系統 網頁／課程查詢 ／當學期課程 。 \\n4. 「常用信箱維護 」：登入選課系統／【個人工具箱】 ，請登錄常用之 e-mail信箱，\\n以免漏收學校發送之相關資訊 (請注意常用信箱是否有漏信狀況，建議多使用學校\\n學生專用信箱 )。 \\n5. 選課結果 公布：不論同學是否選課，請於 確認選課紀錄期間， 上網確認本學期 個\\n人選課紀錄 ，以確保選課結果正確。  \\n(1) 各階段選課結果公布 請自行上網於選課系統／簽入帳號密碼／選課結果查詢。  \\n(2) 請於確認選課紀錄期間， 上網確認本學期 個人選課紀錄，逾期未於選課系統確\\n認者，以選課系統所存資料為準，並依第 122次校務會議決議不再受理更改 。 \\n（二）  選課諮詢： \\n1. 選課問題信箱： acad-c@mail.nsysu.edu.tw  \\n如有選課問題時，請在各階段選課時間截止前，將學號及問題 E-mail至信箱，至\\n遲二個工作日內回覆，逾期不得以系統問題要求補辦選課。  \\n2. 各類課程選課 聯繫單位 (校內分機 )： \\n中文思辨與表達 ：基礎教育中心 (5852)、 \\n英語文、跨院 EAP/ESP ：全英語卓越教學中心 (5808 ) \\n跨院選修：基礎教育中心 (5852)  \\n博雅課程：博雅教育中心 (5853)  \\n運動與健康課程： 運動與健康教育中心 (5865)  \\n服務學習課程： 服務學習 教育中心 (5870)  \\n專業必選修課程：各系所  \\n課務組： (2131~213 4) \\n3. 系所輔導學生選課：', metadata={'source': './data/中大學1122選課須知.pdf', 'page': 3}),\n",
       " Document(page_content='英語文、跨院 EAP/ESP ：全英語卓越教學中心 (5808 ) \\n跨院選修：基礎教育中心 (5852)  \\n博雅課程：博雅教育中心 (5853)  \\n運動與健康課程： 運動與健康教育中心 (5865)  \\n服務學習課程： 服務學習 教育中心 (5870)  \\n專業必選修課程：各系所  \\n課務組： (2131~213 4) \\n3. 系所輔導學生選課：  \\n※課程地圖網頁： http://epp.nsysu.edu.tw/  \\n※學生於上網點選課程前：  \\n(1) 請參考系所必修科目表、 通識教育 課程架構、本校學則、教務章則及各系修課\\n等相關規定，先列出擬加退選課程。  \\n(2) 如有選課問題請與導師 （系所承辦人員 ）討論後再行加退選 。', metadata={'source': './data/中大學1122選課須知.pdf', 'page': 3}),\n",
       " Document(page_content='3 \\n 三、 選課說明：  \\n（一）  同階段選上機率相同， 各課程不採『先選先上』制，不需急於各階段開始時上網 ；為\\n減少網路壅塞及線上操作時間，選課前請先查妥課號。 每一選課階段均分兩階段，於\\n選課階段操作加選時，應於選課結果公告期間上網確認，操作退選課程將於系統直接\\n退選，釋出名額（誤退課程需重新上網加選，並依配課序重新配課） 。  \\n（二）  「加選」 後：  \\n1. 【登記加選】 ：本課程「是否選上」需等選課結果 公布後，自行上網查詢。  \\n2. 【失敗課程清單】 ： 課程加選未成功，請務必依說明再重新加選。  \\n3. 【衝堂】 ： 同時段可以同時加選多科，系統依同時段選上課程志願序篩取，但與確認\\n之預配課程衝堂時則保留該配入課程。  \\n（三）  「退選」後，系統隨即刪除該筆資料 ；誤退的課程重新加選後，仍依【 五、選課結果\\n篩選次序】篩選。  \\n（四）  因抵免、擋修、重覆修習（已修畢）等不擬修習已確認之預配課程、初選選上或加退\\n選選上之課程時，需自行辦理退選 。未辦理者，視同『本學期自願修習』 。  \\n（五）  經確認之預配課程或各階段選上之課程，開學後二週 (加退選結束日 )均未到堂上課者\\n（逢假日未上課不計） ，系所或任課 教師均得以書面 於選課異常處理階段前 通知逕行辦\\n理退選，學生不得異議 。 \\n（六）  教育學程課程 於初選第二階段限教育學程學生選修； 加退選階段開放全校學生選修 。\\n【修習此類課程需另繳交學分費 】 \\n（七）  各階段「選課結果 公布」時，請上網查對，並自行列印存查；加退選結束後，不再發\\n給正式選課紀錄（紙本） ，請依規定上網確認個人選課紀錄，逾期不受理任何更改 。 \\n（八）  選課系統【學期課程查詢】網頁內，【點選】之欄位數字，表本階段加選該課程但尚\\n未選上之人數。 加選前，應先查看目前已點選人數，當點選人數超出限修人數時，請\\n先評估選上可能性，以免課程額滿無法選上。  \\n（九）  選課應針對自己興趣及時間，勿執著加選某一老師， 以免延誤學期選課或課程修習，\\n致而影響畢業。  \\n（十）  選課時，請瞭解應修及最需要修習之課程， 以尚未修習者優先考慮 。', metadata={'source': './data/中大學1122選課須知.pdf', 'page': 4}),\n",
       " Document(page_content='4 \\n 四、 各階段辦理方式及注意事項  \\n(一) 必修課程確認 （請自行確認，未列出之必修課程務請自行加選）  \\n1、為使同學 優先加選必修課程， 同學進入選課系統需先執行必修課程確認 ，方可進行其他\\n課程加退選，請進入選課系統（簽入帳號密碼）／進入必修課程確認， 於表列必修課程\\n『保留課程欄』 勾選擬修習課程 ，按『送出』執行確認。 （保留欄位若未 勾選，執行送\\n出時，即放棄優先 加選必修課程機會，需修習者請自行加選）  \\n2、截至加退選結束均未執行確認者，視同未選修系統表列必修課程。  \\n僅修習必修課程學生請特別注意，選課階段未上網確認必修者，即視同未修課 。 \\n3、分組（多門）必修或因故未列於優先選修之必修課程，請於確認後自行選修。  \\n4、預列課程因選課時程因素，無法確實管控同學抵免、擋修、重覆修 習等免修或不得修習\\n狀況，同學請於執行確認時注意，已確認課程擬不修習時，需自行退選。  \\n(二) 超修學分申請  \\n1、請於選課系統（簽入帳號密碼）／選課相關資訊／ 點選『列印【超修學分申請表】 』。未\\n申請超修學分者， 配課時，超過每學期修課上限情形者，優先刪除志願序較大之課程。  \\n2、申請超修學分者，請於繳交申請單後，於選課期間內再自行上網加選課程。  \\n3、每學期修課學分上限：學士班 25學分、碩專班 12學分、碩博士班 15學分。  \\n4、學士班得於當學期超修一至二科目，在職專班須填寫修課計畫，並檢附相關文件。  \\n(三) 校際選課申請 (本校生 ) （請配合開課學校校際選課時程辦理）  \\n1、至本校教務處／表單下載／學生選課／列印『校際選課申請表 (本校生 )』，申請表 一科目\\n1份，並檢附開課學校課程資料（含開課系所、中英文課程名稱、學分、上課時間等）及\\n課程大綱。  \\n2、選修他校課程，應先向本校教務處提出申請，經系（所）主管核准（教育學程課程需經師\\n資培育中心核准，通識教育課程需經 西灣學院 核准） ，並依他校校際選課之規定辦理選課\\n手續後，於申請表註明之期限內將申請表繳回教務處辦理加選，逾期未繳回者，申請科目\\n逕予註銷。  \\n3、選讀他校之科目，以本校當學期未開設之科目為原則；除開課人數不足停開或衝堂外，\\n不得辦理退選。惟退選應於本校加退選截止日一週內檢具證明文件至本校教務處辦理，\\n逾期不予受理。', metadata={'source': './data/中大學1122選課須知.pdf', 'page': 5}),\n",
       " Document(page_content='資培育中心核准，通識教育課程需經 西灣學院 核准） ，並依他校校際選課之規定辦理選課\\n手續後，於申請表註明之期限內將申請表繳回教務處辦理加選，逾期未繳回者，申請科目\\n逕予註銷。  \\n3、選讀他校之科目，以本校當學期未開設之科目為原則；除開課人數不足停開或衝堂外，\\n不得辦理退選。惟退選應於本校加退選截止日一週內檢具證明文件至本校教務處辦理，\\n逾期不予受理。  \\n4、本校學士班學生每學期校際選課之科目學分總數，以不超過當學期修習學分總數的三分\\n之一為原則 ，惟延修生及修習跨校雙主修、輔系、學分學程者，不在此限 ；碩博士班學生\\n，以不超過肄業系所規定之最低畢業學分數的三分之一為原則。  \\n5、本校學則第 67條規定，在職專班學生不得選修他校課程 ，惟因修習教育學程、跨校學分\\n學程、獲准跨校交換及專案簽請核准者，不在此限 。 \\n6、一般學期學士班學生（不含延修生）選讀臺灣綜合大學系統學校（中正、中興、成功大\\n學）、高雄大學、高雄醫學大學、 高雄科技大學、 東華大學、金門大學、屏東科技大\\n學、中華民國海軍軍官學校 、空軍軍官學校 及慈濟大學 之課程者（不含教育學程），免\\n繳學分費，請按時前往上課 ；但暑期開設之課程，仍需依各校規定之應繳費用標準繳\\n費。  \\n7、一般學期碩博士班學生選讀高雄醫學大學 之課程者，免繳學分費，請按時前往上課 ；但\\n暑期開設之課程，仍需依各校規定之應繳費用標準繳費。  \\n8、辦理完成之申請表，請於繳交日起三個工作日後，可於選課系統／簽入帳號密碼／選課\\n結果查詢。  \\n(四) 初選1【限學士班學生選修通識課程 (其他學制學生請於加退選階段加選本類課程 )】 \\n1、加選：本階段為 『填列點數』加選，每類可選填三門，送出選課表後會於上方課表出現登\\n記加選。', metadata={'source': './data/中大學1122選課須知.pdf', 'page': 5}),\n",
       " Document(page_content='5 \\n    點數  填法：同一類不同課程依選修意願高低，自行分配點數填入，每科目填列點數由 0--\\n100點自由填列。  \\n退選：確認送出選課表後，系統隨即刪除該筆課程；誤退的課程重新加選，仍依【 五、\\n選課結果篩選次序】篩選。  \\n2、學士班通識教育課程架構請至 西灣學院 網頁參閱各學年度通識教育課程架構。  \\n3、通識課程每類可選填三門 ： \\n(1)語文課程：(1)中文思辨與表達 (2)英語文，計 2類，每類 100點。  \\n(2)跨院選修： 100點。  \\n(3)博雅課程： 100點。  \\n(4)服務學習課程： 100點。  \\n(5)運動與健康 (必選修體育） ： 100點。  \\n4、本類課程建議依必修科目表排定之學期選修，以免失去優先選修權，影響以後學期選課。  \\n5、應用性課程（含軍訓） ，於「 初選2階段開放學士班學生加選；研究所學生於「加退選」階\\n段加選。  \\n6、選上課程數限制說明：  \\n(1)跨院選修 及博雅課程 ：以選上一門為限，加退選階段可加選第二門。  \\n(2)運動與健康 ：以選上二門不同選項課程（含重修或補修）為限 。 \\n(3)其它各類課程 ：以選上一門為限 。 \\n \\n(五) 初選2 \\n1、加選：本階段為 『填列志願』加選，志願序不得重複，送出選課表後會於上方課表出現登\\n記加選。【範例】加選三科的志願序正確填法： 1、2、3，錯誤填法： 1、1、1。 \\n   志願填法 ：加選課程時，依選修意願前後，自行分配志願前後填入，每個志願序不得重\\n複，至多可填列 20門課。  \\n同一時間使用不同志願登記加選多科，個人功課表會出現【衝堂】訊息，系統配課依選\\n上志願序篩取一科，但如與已確認之必修課程衝堂，則保留該必修課程。  \\n退選：確認送出選課表後，系統隨即刪除該筆課程；誤退的課程重新加選後，仍依\\n【五、選課結果篩選次序】篩選。  \\n \\n2、本階段適用課程及學生  \\n課程類別  \\n學生身分  學士課程  \\n(通識 &專業課程 ) 碩士  \\n課程  博士  \\n課程  教育學程  碩專  \\n課程  \\n學士班學生  V V \\n(大三、大四 )  V(限教育學程學生 )  \\n碩、博士生   V V V(限教育學程學生 )  \\n碩專班學生   V V V(限教育學程學生 ) V \\n \\n3、通識課程選上課程數限制同初選 1階段。 \\n(六) 加退選 1、2', metadata={'source': './data/中大學1122選課須知.pdf', 'page': 6}),\n",
       " Document(page_content='課程類別  \\n學生身分  學士課程  \\n(通識 &專業課程 ) 碩士  \\n課程  博士  \\n課程  教育學程  碩專  \\n課程  \\n學士班學生  V V \\n(大三、大四 )  V(限教育學程學生 )  \\n碩、博士生   V V V(限教育學程學生 )  \\n碩專班學生   V V V(限教育學程學生 ) V \\n \\n3、通識課程選上課程數限制同初選 1階段。 \\n(六) 加退選 1、2 \\n1、加選：本階段同初選 2，以『填列志願』加選，志願序不得重複，送出選課表後會於上方\\n課表出現登記加選。 【範例】加選三科的志願序正確填法： 1、2、3，錯誤填法： 1、1、1。 \\n志願填法 ：加選課程時，依選修意願前後，自行分配志願前後填入，每個志願序不得重複，\\n至多可填列 20門課。  \\n同一時間使用不同志願登記加選多科，個人功課表會出現【衝堂】訊息，系統配課依選\\n上志願序篩取一科，但如與已確認之必修課程衝堂，則保留該必修課程。  \\n退選：確認送出選課表後，系統隨即刪除該筆課程；誤退的課程重新加選後，仍依【 五、\\n選課結果篩選次序 】篩選。', metadata={'source': './data/中大學1122選課須知.pdf', 'page': 6})]"
      ]
     },
     "execution_count": 26,
     "metadata": {},
     "output_type": "execute_result"
    }
   ],
   "source": [
    "loader = PyPDFLoader(\"./data/中大學1122選課須知.pdf\")\n",
    "pages = loader.load()\n",
    "pages\n",
    "text_splitter = RecursiveCharacterTextSplitter(\n",
    "    # Set a really small chunk size, just to show.\n",
    "    chunk_size=1000,\n",
    "    chunk_overlap=200,\n",
    "    length_function=len,\n",
    "    is_separator_regex=False,\n",
    ")\n",
    "texts = text_splitter.split_documents(pages)\n",
    "texts[:10]"
   ]
  },
  {
   "cell_type": "code",
   "execution_count": 27,
   "metadata": {},
   "outputs": [
    {
     "name": "stderr",
     "output_type": "stream",
     "text": [
      "c:\\Users\\win90\\AppData\\Local\\Programs\\Python\\Python310\\lib\\site-packages\\huggingface_hub\\file_download.py:1132: FutureWarning: `resume_download` is deprecated and will be removed in version 1.0.0. Downloads always resume when possible. If you want to force a new download, use `force_download=True`.\n",
      "  warnings.warn(\n"
     ]
    }
   ],
   "source": [
    "embedding_function = SentenceTransformerEmbeddings(model_name=\"lier007/xiaobu-embedding\")\n",
    "\n",
    "vectorstore = Chroma.from_documents(documents=texts, embedding=embedding_function)\n",
    "\n",
    "retriever = vectorstore.as_retriever()"
   ]
  },
  {
   "cell_type": "code",
   "execution_count": 28,
   "metadata": {},
   "outputs": [
    {
     "name": "stdout",
     "output_type": "stream",
     "text": [
      "1 \n",
      " 一、 選課相關時程：（請依時程辦理，逾時程除重大因素外，依規定不予補辦）  \n",
      "階段  開始日期時間  截止日期時間  \n",
      "112-2課程查詢  112年 12 / 27 (三) 13:00  \n",
      "必修課程確認  1 / 26 (五) 09:00  3 / 1 (五) 17:00  \n",
      "系所輔導學生選課  1 / 26 (五) 09:00  3 / 1 (五) 17:00  \n",
      "校際選課申請 (本校生 ) \n",
      "【請配合開課學校校際選課時\n",
      "程辦理】 1 / 26 (五) 09:00  3 / 1 (五) 17:00  \n",
      "超修學分申請  \n",
      "(上網列印 ，紙本簽核 ) 1 / 26 (五) 09:00  3 / 1 (五) 17:00  \n",
      "(請自行掌握列印及簽核時間 ) \n",
      "【初選】 \n",
      "初選 1 (限學士班選通識課 程) 1 / 26 (五) 09:00   1 / 30 (二) 17:00  \n",
      "初選 1《結果公布》  1 / 31 (三) 14:00  \n",
      "初選 2 2 / 1 (四) 09:00 2 / 5 (一) 17:00  \n",
      "初選 2《結果公布》 2 / 6 (二) 14:00  \n",
      "【加退選】  \n",
      "加退選 1 2 / 22 (四) 09:00   2 / 23 (五) 17:00  \n",
      "加退選 1《結果公布》 2 / 26 (一) 14:00  \n",
      "加退選 2 2 / 29 (四) 09:00  3 / 1 (五) 17:00  \n",
      "加退選 2《結果公布》 3 / 4 (一) 14:00  \n",
      "【異常處理】  \n",
      "選課異常處理  \n",
      "(上網列印 ，紙本簽核 ) 3 / 5 (二) 09:00  3 / 11 (一) 17:00  \n",
      "(請自行掌握列印及簽核時間 ) \n",
      "確認選課紀錄  3 / 5 (二) 09:00   3 / 18 (一) 17:00  \n",
      "【學分費繳交 】 \n",
      "學分費繳交 (暫訂 ) 3 / 28 (四) 4 / 8 (一) \n",
      "【棄選】  \n",
      "棄選  \n",
      "(上網列印 ,紙本簽核 ) 5 / 3 (五) 09:00  5 / 10 (五) 17:00  \n",
      "(請自行掌握列印及簽核時間 ) \n",
      "※各階段辦理方式參閱【 四、各階段辦理方式及注意事項】\n"
     ]
    }
   ],
   "source": [
    "# query it\n",
    "query = \"初選1什麼時候開始選課？\"\n",
    "docs = vectorstore.similarity_search(query)\n",
    "\n",
    "# print results\n",
    "print(docs[0].page_content)"
   ]
  },
  {
   "cell_type": "code",
   "execution_count": 29,
   "metadata": {},
   "outputs": [
    {
     "name": "stdout",
     "output_type": "stream",
     "text": [
      "              +---------------------------------+           \n",
      "              | Parallel<context,question>Input |           \n",
      "              +---------------------------------+           \n",
      "                    ****                ****                \n",
      "                 ***                        ***             \n",
      "               **                              ***          \n",
      "+----------------------+                          **        \n",
      "| VectorStoreRetriever |                           *        \n",
      "+----------------------+                           *        \n",
      "            *                                      *        \n",
      "            *                                      *        \n",
      "            *                                      *        \n",
      "+---------------------+                     +-------------+ \n",
      "| Lambda(format_docs) |                     | Passthrough | \n",
      "+---------------------+                     +-------------+ \n",
      "                    ****                ****                \n",
      "                        ***          ***                    \n",
      "                           **      **                       \n",
      "              +----------------------------------+          \n",
      "              | Parallel<context,question>Output |          \n",
      "              +----------------------------------+          \n",
      "                                *                           \n",
      "                                *                           \n",
      "                                *                           \n",
      "                      +----------------+                    \n",
      "                      | PromptTemplate |                    \n",
      "                      +----------------+                    \n",
      "                                *                           \n",
      "                                *                           \n",
      "                                *                           \n",
      "                    +---------------------+                 \n",
      "                    | HuggingFaceEndpoint |                 \n",
      "                    +---------------------+                 \n",
      "                                *                           \n",
      "                                *                           \n",
      "                                *                           \n",
      "                 +---------------------------+              \n",
      "                 | HuggingFaceEndpointOutput |              \n",
      "                 +---------------------------+              \n"
     ]
    }
   ],
   "source": [
    "def format_docs(docs):\n",
    "    return \"\\n\\n\".join(doc.page_content for doc in docs)\n",
    "\n",
    "rag_prompt_templete = \"\"\"<start_of_turn>user\n",
    "\"角色\": \"選課機器人\",\n",
    "\"服務內容\":\n",
    "你是一個樂於幫助學生的機器人，關於選課或課程的問題你都可以依照以下文件中的規定來回答學生。\\n\n",
    "現在給予以下相關文件, 你將會基於以下 [文件][文件] 中的相關文件與 [回答規則][回答規則] 中的回答規則來回答學生的問題。\\n\n",
    "\\n\n",
    "[文件]\n",
    "{context}\n",
    "[文件]\n",
    "\\n\n",
    "[回答規則]\n",
    "只依據 [文件][文件] 中提供的資訊來回答，並且遵照下列的幾點規則：\n",
    "- 不撒謊或幻想 [文件][文件] 中未明確提供的答案\n",
    "- 如果不確定答案或答案未明確包含在 [文件][文件] 中，請回答：“我很抱歉，我不知道如何提供幫助。”\n",
    "- 回答簡短、相關且簡潔的答案\n",
    "- 回答字數請少於 150 個字\n",
    "- 請在 [結果]: 之後回答你的答案\n",
    "[回答規則]\n",
    "\n",
    "<</SYS>>\n",
    "現在，基於上述的文件與規則，回答以下 () 中的問題\\n[學生]:({question})\\n<end_of_turn>\n",
    "<start_of_turn>model[結果]:\"\"\"\n",
    "\n",
    "rag_prompt = PromptTemplate.from_template(rag_prompt_templete)\n",
    "\n",
    "rag_chain = (\n",
    "    {\"context\": retriever | format_docs, \"question\": RunnablePassthrough()}\n",
    "    | rag_prompt\n",
    "    | llm\n",
    ")\n",
    "rag_chain.get_graph().print_ascii()"
   ]
  },
  {
   "cell_type": "code",
   "execution_count": 30,
   "metadata": {},
   "outputs": [
    {
     "data": {
      "text/plain": [
       "' 初選 2 的選課開始時間為 2/1 (四) 09:00。'"
      ]
     },
     "execution_count": 30,
     "metadata": {},
     "output_type": "execute_result"
    }
   ],
   "source": [
    "rag_chain.invoke(\"初選2什麼時候開始選課？\")"
   ]
  }
 ],
 "metadata": {
  "kernelspec": {
   "display_name": "Python 3",
   "language": "python",
   "name": "python3"
  },
  "language_info": {
   "codemirror_mode": {
    "name": "ipython",
    "version": 3
   },
   "file_extension": ".py",
   "mimetype": "text/x-python",
   "name": "python",
   "nbconvert_exporter": "python",
   "pygments_lexer": "ipython3",
   "version": "3.10.7"
  }
 },
 "nbformat": 4,
 "nbformat_minor": 2
}
